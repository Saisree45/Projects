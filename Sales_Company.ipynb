{
 "cells": [
  {
   "cell_type": "markdown",
   "metadata": {},
   "source": [
    "# Homework Assignment 3"
   ]
  },
  {
   "cell_type": "markdown",
   "metadata": {},
   "source": [
    "______"
   ]
  },
  {
   "cell_type": "markdown",
   "metadata": {},
   "source": [
    "**1. Problem 1: Linear Regression Model (38 points)**"
   ]
  },
  {
   "cell_type": "markdown",
   "metadata": {},
   "source": [
    "#### Implement a Linear Regression model using both Normal Equation Method and SGD "
   ]
  },
  {
   "cell_type": "code",
   "execution_count": 1,
   "metadata": {},
   "outputs": [],
   "source": [
    "#Import necessary packages to the jupyter notebook\n",
    "\n",
    "\n",
    "import numpy as np\n",
    "import pandas as pd\n",
    "from pandas import read_csv\n",
    "from sklearn.preprocessing import MinMaxScaler\n",
    "from sklearn.model_selection import train_test_split \n",
    "from sklearn.metrics import mean_squared_error\n",
    "from sklearn.metrics import r2_score\n",
    "from sklearn.metrics import accuracy_score"
   ]
  },
  {
   "cell_type": "code",
   "execution_count": 2,
   "metadata": {},
   "outputs": [
    {
     "data": {
      "text/html": [
       "<div>\n",
       "<style scoped>\n",
       "    .dataframe tbody tr th:only-of-type {\n",
       "        vertical-align: middle;\n",
       "    }\n",
       "\n",
       "    .dataframe tbody tr th {\n",
       "        vertical-align: top;\n",
       "    }\n",
       "\n",
       "    .dataframe thead th {\n",
       "        text-align: right;\n",
       "    }\n",
       "</style>\n",
       "<table border=\"1\" class=\"dataframe\">\n",
       "  <thead>\n",
       "    <tr style=\"text-align: right;\">\n",
       "      <th></th>\n",
       "      <th>Date</th>\n",
       "      <th>Open</th>\n",
       "      <th>High</th>\n",
       "      <th>Low</th>\n",
       "      <th>Close</th>\n",
       "      <th>Adj Close</th>\n",
       "      <th>Volume</th>\n",
       "    </tr>\n",
       "  </thead>\n",
       "  <tbody>\n",
       "    <tr>\n",
       "      <th>0</th>\n",
       "      <td>1997-05-15</td>\n",
       "      <td>2.437500</td>\n",
       "      <td>2.500000</td>\n",
       "      <td>1.927083</td>\n",
       "      <td>1.958333</td>\n",
       "      <td>1.958333</td>\n",
       "      <td>72156000</td>\n",
       "    </tr>\n",
       "    <tr>\n",
       "      <th>1</th>\n",
       "      <td>1997-05-16</td>\n",
       "      <td>1.968750</td>\n",
       "      <td>1.979167</td>\n",
       "      <td>1.708333</td>\n",
       "      <td>1.729167</td>\n",
       "      <td>1.729167</td>\n",
       "      <td>14700000</td>\n",
       "    </tr>\n",
       "    <tr>\n",
       "      <th>2</th>\n",
       "      <td>1997-05-19</td>\n",
       "      <td>1.760417</td>\n",
       "      <td>1.770833</td>\n",
       "      <td>1.625000</td>\n",
       "      <td>1.708333</td>\n",
       "      <td>1.708333</td>\n",
       "      <td>6106800</td>\n",
       "    </tr>\n",
       "    <tr>\n",
       "      <th>3</th>\n",
       "      <td>1997-05-20</td>\n",
       "      <td>1.729167</td>\n",
       "      <td>1.750000</td>\n",
       "      <td>1.635417</td>\n",
       "      <td>1.635417</td>\n",
       "      <td>1.635417</td>\n",
       "      <td>5467200</td>\n",
       "    </tr>\n",
       "    <tr>\n",
       "      <th>4</th>\n",
       "      <td>1997-05-21</td>\n",
       "      <td>1.635417</td>\n",
       "      <td>1.645833</td>\n",
       "      <td>1.375000</td>\n",
       "      <td>1.427083</td>\n",
       "      <td>1.427083</td>\n",
       "      <td>18853200</td>\n",
       "    </tr>\n",
       "    <tr>\n",
       "      <th>...</th>\n",
       "      <td>...</td>\n",
       "      <td>...</td>\n",
       "      <td>...</td>\n",
       "      <td>...</td>\n",
       "      <td>...</td>\n",
       "      <td>...</td>\n",
       "      <td>...</td>\n",
       "    </tr>\n",
       "    <tr>\n",
       "      <th>5753</th>\n",
       "      <td>2020-03-26</td>\n",
       "      <td>1902.000000</td>\n",
       "      <td>1956.489990</td>\n",
       "      <td>1889.290039</td>\n",
       "      <td>1955.489990</td>\n",
       "      <td>1955.489990</td>\n",
       "      <td>6221300</td>\n",
       "    </tr>\n",
       "    <tr>\n",
       "      <th>5754</th>\n",
       "      <td>2020-03-27</td>\n",
       "      <td>1930.859985</td>\n",
       "      <td>1939.790039</td>\n",
       "      <td>1899.920044</td>\n",
       "      <td>1900.099976</td>\n",
       "      <td>1900.099976</td>\n",
       "      <td>5387900</td>\n",
       "    </tr>\n",
       "    <tr>\n",
       "      <th>5755</th>\n",
       "      <td>2020-03-30</td>\n",
       "      <td>1922.829956</td>\n",
       "      <td>1973.630005</td>\n",
       "      <td>1912.339966</td>\n",
       "      <td>1963.949951</td>\n",
       "      <td>1963.949951</td>\n",
       "      <td>6126100</td>\n",
       "    </tr>\n",
       "    <tr>\n",
       "      <th>5756</th>\n",
       "      <td>2020-03-31</td>\n",
       "      <td>1964.349976</td>\n",
       "      <td>1993.020020</td>\n",
       "      <td>1944.010010</td>\n",
       "      <td>1949.719971</td>\n",
       "      <td>1949.719971</td>\n",
       "      <td>5123600</td>\n",
       "    </tr>\n",
       "    <tr>\n",
       "      <th>5757</th>\n",
       "      <td>2020-04-01</td>\n",
       "      <td>1932.969971</td>\n",
       "      <td>1944.959961</td>\n",
       "      <td>1893.000000</td>\n",
       "      <td>1907.699951</td>\n",
       "      <td>1907.699951</td>\n",
       "      <td>4111100</td>\n",
       "    </tr>\n",
       "  </tbody>\n",
       "</table>\n",
       "<p>5758 rows × 7 columns</p>\n",
       "</div>"
      ],
      "text/plain": [
       "            Date         Open         High          Low        Close  \\\n",
       "0     1997-05-15     2.437500     2.500000     1.927083     1.958333   \n",
       "1     1997-05-16     1.968750     1.979167     1.708333     1.729167   \n",
       "2     1997-05-19     1.760417     1.770833     1.625000     1.708333   \n",
       "3     1997-05-20     1.729167     1.750000     1.635417     1.635417   \n",
       "4     1997-05-21     1.635417     1.645833     1.375000     1.427083   \n",
       "...          ...          ...          ...          ...          ...   \n",
       "5753  2020-03-26  1902.000000  1956.489990  1889.290039  1955.489990   \n",
       "5754  2020-03-27  1930.859985  1939.790039  1899.920044  1900.099976   \n",
       "5755  2020-03-30  1922.829956  1973.630005  1912.339966  1963.949951   \n",
       "5756  2020-03-31  1964.349976  1993.020020  1944.010010  1949.719971   \n",
       "5757  2020-04-01  1932.969971  1944.959961  1893.000000  1907.699951   \n",
       "\n",
       "        Adj Close    Volume  \n",
       "0        1.958333  72156000  \n",
       "1        1.729167  14700000  \n",
       "2        1.708333   6106800  \n",
       "3        1.635417   5467200  \n",
       "4        1.427083  18853200  \n",
       "...           ...       ...  \n",
       "5753  1955.489990   6221300  \n",
       "5754  1900.099976   5387900  \n",
       "5755  1963.949951   6126100  \n",
       "5756  1949.719971   5123600  \n",
       "5757  1907.699951   4111100  \n",
       "\n",
       "[5758 rows x 7 columns]"
      ]
     },
     "execution_count": 2,
     "metadata": {},
     "output_type": "execute_result"
    }
   ],
   "source": [
    "# read and load the csv data file\n",
    "\n",
    "filename = \"AMZN.csv\"\n",
    "\n",
    "data_file = read_csv(filename)\n",
    "\n",
    "# data\n",
    "\n",
    "data_file"
   ]
  },
  {
   "cell_type": "code",
   "execution_count": 3,
   "metadata": {},
   "outputs": [],
   "source": [
    "# Adjusted Close Price df\n",
    "\n",
    "data_new = data_file[['Adj Close']]\n",
    "\n",
    "# converting dataset to numpy array\n",
    "\n",
    "values_new_df= data_new.values"
   ]
  },
  {
   "cell_type": "code",
   "execution_count": 4,
   "metadata": {},
   "outputs": [
    {
     "data": {
      "text/html": [
       "<div>\n",
       "<style scoped>\n",
       "    .dataframe tbody tr th:only-of-type {\n",
       "        vertical-align: middle;\n",
       "    }\n",
       "\n",
       "    .dataframe tbody tr th {\n",
       "        vertical-align: top;\n",
       "    }\n",
       "\n",
       "    .dataframe thead th {\n",
       "        text-align: right;\n",
       "    }\n",
       "</style>\n",
       "<table border=\"1\" class=\"dataframe\">\n",
       "  <thead>\n",
       "    <tr style=\"text-align: right;\">\n",
       "      <th></th>\n",
       "      <th>Adj Close</th>\n",
       "    </tr>\n",
       "  </thead>\n",
       "  <tbody>\n",
       "    <tr>\n",
       "      <th>0</th>\n",
       "      <td>1.958333</td>\n",
       "    </tr>\n",
       "    <tr>\n",
       "      <th>1</th>\n",
       "      <td>1.729167</td>\n",
       "    </tr>\n",
       "    <tr>\n",
       "      <th>2</th>\n",
       "      <td>1.708333</td>\n",
       "    </tr>\n",
       "    <tr>\n",
       "      <th>3</th>\n",
       "      <td>1.635417</td>\n",
       "    </tr>\n",
       "    <tr>\n",
       "      <th>4</th>\n",
       "      <td>1.427083</td>\n",
       "    </tr>\n",
       "    <tr>\n",
       "      <th>...</th>\n",
       "      <td>...</td>\n",
       "    </tr>\n",
       "    <tr>\n",
       "      <th>5753</th>\n",
       "      <td>1955.489990</td>\n",
       "    </tr>\n",
       "    <tr>\n",
       "      <th>5754</th>\n",
       "      <td>1900.099976</td>\n",
       "    </tr>\n",
       "    <tr>\n",
       "      <th>5755</th>\n",
       "      <td>1963.949951</td>\n",
       "    </tr>\n",
       "    <tr>\n",
       "      <th>5756</th>\n",
       "      <td>1949.719971</td>\n",
       "    </tr>\n",
       "    <tr>\n",
       "      <th>5757</th>\n",
       "      <td>1907.699951</td>\n",
       "    </tr>\n",
       "  </tbody>\n",
       "</table>\n",
       "<p>5758 rows × 1 columns</p>\n",
       "</div>"
      ],
      "text/plain": [
       "        Adj Close\n",
       "0        1.958333\n",
       "1        1.729167\n",
       "2        1.708333\n",
       "3        1.635417\n",
       "4        1.427083\n",
       "...           ...\n",
       "5753  1955.489990\n",
       "5754  1900.099976\n",
       "5755  1963.949951\n",
       "5756  1949.719971\n",
       "5757  1907.699951\n",
       "\n",
       "[5758 rows x 1 columns]"
      ]
     },
     "execution_count": 4,
     "metadata": {},
     "output_type": "execute_result"
    }
   ],
   "source": [
    "data_new"
   ]
  },
  {
   "cell_type": "markdown",
   "metadata": {},
   "source": [
    " (a) Use the Python function (given at the end of the document) named **series to supervised()** that takes a univariate or multivariate time series and frames it as a supervised learning dataset (10 points)."
   ]
  },
  {
   "cell_type": "code",
   "execution_count": 5,
   "metadata": {},
   "outputs": [],
   "source": [
    "from pandas import DataFrame\n",
    "from pandas import concat\n",
    "\n",
    "\"\"\"\n",
    "Frame a time series as a supervised learning dataset.\n",
    "Arguments:\n",
    "  data: Sequence of observations as a list or NumPy array.\n",
    "  n_in: Number of lag observations as input (X).\n",
    "  n_out: Number of observations as output (y).\n",
    "  dropnan: Boolean whether or not to drop rows with NaN values.\n",
    "Returns:\n",
    "  Pandas DataFrame of series framed for supervised learning.\n",
    "\"\"\"\n",
    "\n",
    "def series_to_supervised(data_file, n_in=1, n_out=1, dropnan=True): \n",
    "    \n",
    "    n_vars = 1 if type(data_file) is list else data_file.shape[1] \n",
    "    df = DataFrame(data_file)\n",
    "    cols, names = list(), list()\n",
    "    # input sequence (t-n, ... t-1)\n",
    "    for i in range(n_in, 0, -1): \n",
    "        cols.append(df.shift(i)) \n",
    "        names += [('var%d(t-%d)' % (j+1, i)) for j in range(n_vars)]\n",
    "    # forecast sequence (t, t+1,... t+n)\n",
    "    for i in range(0, n_out):\n",
    "        cols.append(df.shift(-i))\n",
    "        if i == 0:\n",
    "            names += [('var%d(t)' % (j+1)) for j in range(n_vars)] \n",
    "        else:\n",
    "            names += [('var%d(t+%d)' % (j+1, i)) for j in range(n_vars)] \n",
    "    # put it all together\n",
    "    agg = concat(cols, axis=1)\n",
    "    agg.columns = names\n",
    "    # drop rows with NaN values\n",
    "    if dropnan:\n",
    "        agg.dropna(inplace=True) \n",
    "    return agg"
   ]
  },
  {
   "cell_type": "code",
   "execution_count": 6,
   "metadata": {},
   "outputs": [
    {
     "data": {
      "text/html": [
       "<div>\n",
       "<style scoped>\n",
       "    .dataframe tbody tr th:only-of-type {\n",
       "        vertical-align: middle;\n",
       "    }\n",
       "\n",
       "    .dataframe tbody tr th {\n",
       "        vertical-align: top;\n",
       "    }\n",
       "\n",
       "    .dataframe thead th {\n",
       "        text-align: right;\n",
       "    }\n",
       "</style>\n",
       "<table border=\"1\" class=\"dataframe\">\n",
       "  <thead>\n",
       "    <tr style=\"text-align: right;\">\n",
       "      <th></th>\n",
       "      <th>var1(t-10)</th>\n",
       "      <th>var1(t-9)</th>\n",
       "      <th>var1(t-8)</th>\n",
       "      <th>var1(t-7)</th>\n",
       "      <th>var1(t-6)</th>\n",
       "      <th>var1(t-5)</th>\n",
       "      <th>var1(t-4)</th>\n",
       "      <th>var1(t-3)</th>\n",
       "      <th>var1(t-2)</th>\n",
       "      <th>var1(t-1)</th>\n",
       "      <th>var1(t)</th>\n",
       "    </tr>\n",
       "  </thead>\n",
       "  <tbody>\n",
       "    <tr>\n",
       "      <th>10</th>\n",
       "      <td>1.958333</td>\n",
       "      <td>1.729167</td>\n",
       "      <td>1.708333</td>\n",
       "      <td>1.635417</td>\n",
       "      <td>1.427083</td>\n",
       "      <td>1.395833</td>\n",
       "      <td>1.500000</td>\n",
       "      <td>1.583333</td>\n",
       "      <td>1.531250</td>\n",
       "      <td>1.505208</td>\n",
       "      <td>1.500000</td>\n",
       "    </tr>\n",
       "    <tr>\n",
       "      <th>11</th>\n",
       "      <td>1.729167</td>\n",
       "      <td>1.708333</td>\n",
       "      <td>1.635417</td>\n",
       "      <td>1.427083</td>\n",
       "      <td>1.395833</td>\n",
       "      <td>1.500000</td>\n",
       "      <td>1.583333</td>\n",
       "      <td>1.531250</td>\n",
       "      <td>1.505208</td>\n",
       "      <td>1.500000</td>\n",
       "      <td>1.510417</td>\n",
       "    </tr>\n",
       "    <tr>\n",
       "      <th>12</th>\n",
       "      <td>1.708333</td>\n",
       "      <td>1.635417</td>\n",
       "      <td>1.427083</td>\n",
       "      <td>1.395833</td>\n",
       "      <td>1.500000</td>\n",
       "      <td>1.583333</td>\n",
       "      <td>1.531250</td>\n",
       "      <td>1.505208</td>\n",
       "      <td>1.500000</td>\n",
       "      <td>1.510417</td>\n",
       "      <td>1.479167</td>\n",
       "    </tr>\n",
       "    <tr>\n",
       "      <th>13</th>\n",
       "      <td>1.635417</td>\n",
       "      <td>1.427083</td>\n",
       "      <td>1.395833</td>\n",
       "      <td>1.500000</td>\n",
       "      <td>1.583333</td>\n",
       "      <td>1.531250</td>\n",
       "      <td>1.505208</td>\n",
       "      <td>1.500000</td>\n",
       "      <td>1.510417</td>\n",
       "      <td>1.479167</td>\n",
       "      <td>1.416667</td>\n",
       "    </tr>\n",
       "    <tr>\n",
       "      <th>14</th>\n",
       "      <td>1.427083</td>\n",
       "      <td>1.395833</td>\n",
       "      <td>1.500000</td>\n",
       "      <td>1.583333</td>\n",
       "      <td>1.531250</td>\n",
       "      <td>1.505208</td>\n",
       "      <td>1.500000</td>\n",
       "      <td>1.510417</td>\n",
       "      <td>1.479167</td>\n",
       "      <td>1.416667</td>\n",
       "      <td>1.541667</td>\n",
       "    </tr>\n",
       "    <tr>\n",
       "      <th>...</th>\n",
       "      <td>...</td>\n",
       "      <td>...</td>\n",
       "      <td>...</td>\n",
       "      <td>...</td>\n",
       "      <td>...</td>\n",
       "      <td>...</td>\n",
       "      <td>...</td>\n",
       "      <td>...</td>\n",
       "      <td>...</td>\n",
       "      <td>...</td>\n",
       "      <td>...</td>\n",
       "    </tr>\n",
       "    <tr>\n",
       "      <th>5753</th>\n",
       "      <td>1676.609985</td>\n",
       "      <td>1785.000000</td>\n",
       "      <td>1689.150024</td>\n",
       "      <td>1807.839966</td>\n",
       "      <td>1830.000000</td>\n",
       "      <td>1880.930054</td>\n",
       "      <td>1846.089966</td>\n",
       "      <td>1902.829956</td>\n",
       "      <td>1940.099976</td>\n",
       "      <td>1885.839966</td>\n",
       "      <td>1955.489990</td>\n",
       "    </tr>\n",
       "    <tr>\n",
       "      <th>5754</th>\n",
       "      <td>1785.000000</td>\n",
       "      <td>1689.150024</td>\n",
       "      <td>1807.839966</td>\n",
       "      <td>1830.000000</td>\n",
       "      <td>1880.930054</td>\n",
       "      <td>1846.089966</td>\n",
       "      <td>1902.829956</td>\n",
       "      <td>1940.099976</td>\n",
       "      <td>1885.839966</td>\n",
       "      <td>1955.489990</td>\n",
       "      <td>1900.099976</td>\n",
       "    </tr>\n",
       "    <tr>\n",
       "      <th>5755</th>\n",
       "      <td>1689.150024</td>\n",
       "      <td>1807.839966</td>\n",
       "      <td>1830.000000</td>\n",
       "      <td>1880.930054</td>\n",
       "      <td>1846.089966</td>\n",
       "      <td>1902.829956</td>\n",
       "      <td>1940.099976</td>\n",
       "      <td>1885.839966</td>\n",
       "      <td>1955.489990</td>\n",
       "      <td>1900.099976</td>\n",
       "      <td>1963.949951</td>\n",
       "    </tr>\n",
       "    <tr>\n",
       "      <th>5756</th>\n",
       "      <td>1807.839966</td>\n",
       "      <td>1830.000000</td>\n",
       "      <td>1880.930054</td>\n",
       "      <td>1846.089966</td>\n",
       "      <td>1902.829956</td>\n",
       "      <td>1940.099976</td>\n",
       "      <td>1885.839966</td>\n",
       "      <td>1955.489990</td>\n",
       "      <td>1900.099976</td>\n",
       "      <td>1963.949951</td>\n",
       "      <td>1949.719971</td>\n",
       "    </tr>\n",
       "    <tr>\n",
       "      <th>5757</th>\n",
       "      <td>1830.000000</td>\n",
       "      <td>1880.930054</td>\n",
       "      <td>1846.089966</td>\n",
       "      <td>1902.829956</td>\n",
       "      <td>1940.099976</td>\n",
       "      <td>1885.839966</td>\n",
       "      <td>1955.489990</td>\n",
       "      <td>1900.099976</td>\n",
       "      <td>1963.949951</td>\n",
       "      <td>1949.719971</td>\n",
       "      <td>1907.699951</td>\n",
       "    </tr>\n",
       "  </tbody>\n",
       "</table>\n",
       "<p>5748 rows × 11 columns</p>\n",
       "</div>"
      ],
      "text/plain": [
       "       var1(t-10)    var1(t-9)    var1(t-8)    var1(t-7)    var1(t-6)  \\\n",
       "10       1.958333     1.729167     1.708333     1.635417     1.427083   \n",
       "11       1.729167     1.708333     1.635417     1.427083     1.395833   \n",
       "12       1.708333     1.635417     1.427083     1.395833     1.500000   \n",
       "13       1.635417     1.427083     1.395833     1.500000     1.583333   \n",
       "14       1.427083     1.395833     1.500000     1.583333     1.531250   \n",
       "...           ...          ...          ...          ...          ...   \n",
       "5753  1676.609985  1785.000000  1689.150024  1807.839966  1830.000000   \n",
       "5754  1785.000000  1689.150024  1807.839966  1830.000000  1880.930054   \n",
       "5755  1689.150024  1807.839966  1830.000000  1880.930054  1846.089966   \n",
       "5756  1807.839966  1830.000000  1880.930054  1846.089966  1902.829956   \n",
       "5757  1830.000000  1880.930054  1846.089966  1902.829956  1940.099976   \n",
       "\n",
       "        var1(t-5)    var1(t-4)    var1(t-3)    var1(t-2)    var1(t-1)  \\\n",
       "10       1.395833     1.500000     1.583333     1.531250     1.505208   \n",
       "11       1.500000     1.583333     1.531250     1.505208     1.500000   \n",
       "12       1.583333     1.531250     1.505208     1.500000     1.510417   \n",
       "13       1.531250     1.505208     1.500000     1.510417     1.479167   \n",
       "14       1.505208     1.500000     1.510417     1.479167     1.416667   \n",
       "...           ...          ...          ...          ...          ...   \n",
       "5753  1880.930054  1846.089966  1902.829956  1940.099976  1885.839966   \n",
       "5754  1846.089966  1902.829956  1940.099976  1885.839966  1955.489990   \n",
       "5755  1902.829956  1940.099976  1885.839966  1955.489990  1900.099976   \n",
       "5756  1940.099976  1885.839966  1955.489990  1900.099976  1963.949951   \n",
       "5757  1885.839966  1955.489990  1900.099976  1963.949951  1949.719971   \n",
       "\n",
       "          var1(t)  \n",
       "10       1.500000  \n",
       "11       1.510417  \n",
       "12       1.479167  \n",
       "13       1.416667  \n",
       "14       1.541667  \n",
       "...           ...  \n",
       "5753  1955.489990  \n",
       "5754  1900.099976  \n",
       "5755  1963.949951  \n",
       "5756  1949.719971  \n",
       "5757  1907.699951  \n",
       "\n",
       "[5748 rows x 11 columns]"
      ]
     },
     "execution_count": 6,
     "metadata": {},
     "output_type": "execute_result"
    }
   ],
   "source": [
    "\n",
    "#checking the ouput by passing the values_new_df into series to supervised parameter\n",
    "data = series_to_supervised(values_new_df, 10)\n",
    "\n",
    "# transformed dataset\n",
    "data"
   ]
  },
  {
   "cell_type": "code",
   "execution_count": 7,
   "metadata": {},
   "outputs": [
    {
     "data": {
      "text/plain": [
       "(5748, 11)"
      ]
     },
     "execution_count": 7,
     "metadata": {},
     "output_type": "execute_result"
    }
   ],
   "source": [
    "# Trans_data data frame shape\n",
    "data.shape"
   ]
  },
  {
   "cell_type": "markdown",
   "metadata": {},
   "source": [
    "(b) Use **MinMaxScaler** to scale your data. (2 points)"
   ]
  },
  {
   "cell_type": "code",
   "execution_count": 8,
   "metadata": {},
   "outputs": [
    {
     "name": "stdout",
     "output_type": "stream",
     "text": [
      "(5748, 11)\n",
      "[[2.59357128e-04 1.53693076e-04 1.44087293e-04 ... 5.28325334e-05\n",
      "  4.08251620e-05 3.84236657e-05]\n",
      " [1.53693076e-04 1.44087293e-04 1.10466888e-04 ... 4.08251620e-05\n",
      "  3.84236657e-05 4.32266033e-05]\n",
      " [1.44087293e-04 1.10466888e-04 1.44087293e-05 ... 3.84236657e-05\n",
      "  4.32266033e-05 2.88177355e-05]\n",
      " ...\n",
      " [7.78188587e-01 8.32914067e-01 8.43131601e-01 ... 9.00991491e-01\n",
      "  8.75452055e-01 9.04892242e-01]\n",
      " [8.32914067e-01 8.43131601e-01 8.66614396e-01 ... 8.75452055e-01\n",
      "  9.04892242e-01 8.98331029e-01]\n",
      " [8.43131601e-01 8.66614396e-01 8.50550352e-01 ... 9.04892242e-01\n",
      "  8.98331029e-01 8.78956280e-01]]\n"
     ]
    }
   ],
   "source": [
    "# Convert the data set into a numpy array \n",
    "array = data.values\n",
    "# Define min max scaler\n",
    "scaler = MinMaxScaler()\n",
    "# Transformed the data\n",
    "file_new = scaler.fit_transform(array)\n",
    "# data shape\n",
    "print(file_new.shape)\n",
    "# Visualize the scaled data\n",
    "print(file_new)"
   ]
  },
  {
   "cell_type": "markdown",
   "metadata": {},
   "source": [
    "(c) Use the Normal Equation Method to find the linear regression coefficients (w). To perform this you may want to take the following steps first: Split your data to X and Y by taking the columns var1(t-10),...,var(t-1) as your 10 features in X, and take the last column var1(t) as your target (Y). Expand your matrix X with a bias vector of ones as the first column (to accomplish this, you may want to use the numpy operations **np.ones , np.reshape and np.append** ).\n",
    "Use the **train test split** with ‘random state=1’ to split your data to 70% training, and 30% test data. Solve the Normal Equation Method in (2) to find the coefficients w. (10 point).\n"
   ]
  },
  {
   "cell_type": "code",
   "execution_count": 9,
   "metadata": {},
   "outputs": [],
   "source": [
    "# Split the data \n",
    "X = file_new[:,0:10]\n",
    "y = file_new[:,10]"
   ]
  },
  {
   "cell_type": "markdown",
   "metadata": {},
   "source": [
    "# Expand the matirx X with a bias vector of ones"
   ]
  },
  {
   "cell_type": "code",
   "execution_count": 10,
   "metadata": {},
   "outputs": [
    {
     "name": "stdout",
     "output_type": "stream",
     "text": [
      "(5748,)\n",
      "[1. 1. 1. ... 1. 1. 1.]\n"
     ]
    }
   ],
   "source": [
    "\n",
    "# Create a  vector with 5748 (total of observations) values\n",
    "vector = np.ones(5748)\n",
    "# Vector shape\n",
    "print(vector.shape)\n",
    "# Print vector to visualize its shape\n",
    "print(vector)\n"
   ]
  },
  {
   "cell_type": "code",
   "execution_count": 11,
   "metadata": {},
   "outputs": [
    {
     "name": "stdout",
     "output_type": "stream",
     "text": [
      "(5748, 1)\n",
      "[[1.]\n",
      " [1.]\n",
      " [1.]\n",
      " ...\n",
      " [1.]\n",
      " [1.]\n",
      " [1.]]\n"
     ]
    }
   ],
   "source": [
    "# Reshape the vector \n",
    "\n",
    "vector=np.reshape(vector, (5748,1))\n",
    "\n",
    "# New Shape\n",
    "print(vector.shape)\n",
    "\n",
    "# Print new vector \n",
    "print(vector)"
   ]
  },
  {
   "cell_type": "code",
   "execution_count": 12,
   "metadata": {},
   "outputs": [
    {
     "name": "stdout",
     "output_type": "stream",
     "text": [
      "(5748, 11)\n"
     ]
    }
   ],
   "source": [
    "# Add vector as a first column to the matriz X\n",
    "\n",
    "X = np.append(vector, X, axis=1)\n",
    "print(X.shape)"
   ]
  },
  {
   "cell_type": "code",
   "execution_count": 13,
   "metadata": {},
   "outputs": [],
   "source": [
    "# Split the data using train and test split\n",
    "\n",
    "X_train, X_test, y_train, y_test = train_test_split(X, y, test_size = 0.30, random_state=1)"
   ]
  },
  {
   "cell_type": "code",
   "execution_count": 14,
   "metadata": {},
   "outputs": [],
   "source": [
    "#Normal equation implementation in python using numpy for linear regression\n",
    "\n",
    "def LinearnormalEquation(X, y):\n",
    "   \n",
    "    X_transpose = np.transpose(X)\n",
    "\n",
    "    # Calculating theta\n",
    "    theta = np.linalg.inv(X_transpose.dot(X))\n",
    "    theta = theta.dot(X_transpose)\n",
    "    theta = theta.dot(y)\n",
    "\n",
    "    return theta"
   ]
  },
  {
   "cell_type": "code",
   "execution_count": 15,
   "metadata": {},
   "outputs": [
    {
     "name": "stdout",
     "output_type": "stream",
     "text": [
      "[ 1.26111054e-04 -4.83348220e-02  2.24558809e-01 -1.52228741e-01\n",
      "  3.28901068e-02 -1.08811996e-01  7.17528590e-02 -2.60760209e-02\n",
      " -1.48358090e-03  8.01298345e-02  9.28047368e-01]\n"
     ]
    }
   ],
   "source": [
    "# Normal equation for linear regression\n",
    "theta = np.dot(np.linalg.inv(np.dot(X_train.T,X_train)),np.dot(X_train.T,y_train))\n",
    "print(theta)"
   ]
  },
  {
   "cell_type": "markdown",
   "metadata": {},
   "source": [
    "(d) Make a prediction on your test set using the linear regression function f(x) = wTx, and use both the mean square error and coefficient of determination R2 to measure the performance of your prediction model. For this use fucntions **mean_squared_error** and **r2** score from sklearn library. (6 points)"
   ]
  },
  {
   "cell_type": "code",
   "execution_count": 16,
   "metadata": {},
   "outputs": [],
   "source": [
    "# Create a function to obtain prediction on y using coefficients(theta)\n",
    "\n",
    "def predict(X, theta):\n",
    "    return X.dot(theta)\n",
    "    \n",
    "\n",
    "# Calculate the predictions \n",
    "\n",
    "preds = predict(X_test, theta)\n",
    "\n"
   ]
  },
  {
   "cell_type": "code",
   "execution_count": 17,
   "metadata": {},
   "outputs": [
    {
     "name": "stdout",
     "output_type": "stream",
     "text": [
      "The MSE for the model is: 2.4148595608753934e-05\n"
     ]
    }
   ],
   "source": [
    "#predicting using mean square error\n",
    "from sklearn.metrics import mean_squared_error\n",
    "mse=mean_squared_error(y_test,preds )\n",
    "print('The MSE for the model is:' , mse)"
   ]
  },
  {
   "cell_type": "code",
   "execution_count": 18,
   "metadata": {},
   "outputs": [
    {
     "name": "stdout",
     "output_type": "stream",
     "text": [
      "R2 is: 0.9995593086029828\n"
     ]
    }
   ],
   "source": [
    "#predicting using R2\n",
    "from sklearn.metrics import r2_score\n",
    "r2=r2_score(y_test, preds)\n",
    "print(\"R2 is:\", r2)"
   ]
  },
  {
   "cell_type": "markdown",
   "metadata": {},
   "source": [
    "\n",
    "(e) Next, find the coefficients w using gradient descent algorithm and monitor how your error changes in each epoch; You can create a function **coefficients_sgd** similar to what we did in our Lab Session 7. Note that you may have to make some minor changes to this part of the code (**coefficients_sgd** for linear regression, in lab session 7), due to the additional bias term 1 in your matrix X. For this part, use learning rate 0.01, and number of epochs (iterations) 200. (4 points)"
   ]
  },
  {
   "cell_type": "code",
   "execution_count": 19,
   "metadata": {},
   "outputs": [],
   "source": [
    "def coefficients_sgd(X_train, Y_train, l_rate, n_epoch): #l-rate is learning rate\n",
    "  #initializing all coefficients to zero\n",
    "  coef = [0.0 for i in range(len(X_train[0]))]\n",
    "  for epoch in range(n_epoch + 1):\n",
    "    sum_error = 0 # loss\n",
    "    for i in range(X_train.shape[0]):\n",
    "      # calculating the prediction using current coeeficients\n",
    "      yhat = predict(X_train[i,:], coef)\n",
    "      # calculating error\n",
    "      error = yhat - Y_train[i] #yhat is prediction, Y_train is ground truth,\n",
    "      sum_error += error**2 # error square, because loss cannot be negative, or we want to error to be positive.\n",
    "      #stochastic gradient descent\n",
    "      coef[0] = coef[0] - l_rate * error\n",
    "      for j in range(len(coef)-1):\n",
    "        coef[j + 1] = coef[j + 1] - l_rate * error * X_train[i,j]\n",
    "    \n",
    "    print( ' >epoch=%d, lrate=%.3f, error=%.3f ' % (epoch, l_rate, sum_error))\n",
    "  #returning the list of coefficients  \n",
    "  return coef"
   ]
  },
  {
   "cell_type": "code",
   "execution_count": 20,
   "metadata": {},
   "outputs": [
    {
     "name": "stdout",
     "output_type": "stream",
     "text": [
      " >epoch=0, lrate=0.010, error=5.718 \n",
      " >epoch=1, lrate=0.010, error=0.423 \n",
      " >epoch=2, lrate=0.010, error=0.420 \n",
      " >epoch=3, lrate=0.010, error=0.416 \n",
      " >epoch=4, lrate=0.010, error=0.413 \n",
      " >epoch=5, lrate=0.010, error=0.410 \n",
      " >epoch=6, lrate=0.010, error=0.407 \n",
      " >epoch=7, lrate=0.010, error=0.404 \n",
      " >epoch=8, lrate=0.010, error=0.401 \n",
      " >epoch=9, lrate=0.010, error=0.399 \n",
      " >epoch=10, lrate=0.010, error=0.396 \n",
      " >epoch=11, lrate=0.010, error=0.393 \n",
      " >epoch=12, lrate=0.010, error=0.390 \n",
      " >epoch=13, lrate=0.010, error=0.387 \n",
      " >epoch=14, lrate=0.010, error=0.385 \n",
      " >epoch=15, lrate=0.010, error=0.382 \n",
      " >epoch=16, lrate=0.010, error=0.380 \n",
      " >epoch=17, lrate=0.010, error=0.377 \n",
      " >epoch=18, lrate=0.010, error=0.374 \n",
      " >epoch=19, lrate=0.010, error=0.372 \n",
      " >epoch=20, lrate=0.010, error=0.369 \n",
      " >epoch=21, lrate=0.010, error=0.367 \n",
      " >epoch=22, lrate=0.010, error=0.365 \n",
      " >epoch=23, lrate=0.010, error=0.362 \n",
      " >epoch=24, lrate=0.010, error=0.360 \n",
      " >epoch=25, lrate=0.010, error=0.358 \n",
      " >epoch=26, lrate=0.010, error=0.355 \n",
      " >epoch=27, lrate=0.010, error=0.353 \n",
      " >epoch=28, lrate=0.010, error=0.351 \n",
      " >epoch=29, lrate=0.010, error=0.349 \n",
      " >epoch=30, lrate=0.010, error=0.347 \n",
      " >epoch=31, lrate=0.010, error=0.344 \n",
      " >epoch=32, lrate=0.010, error=0.342 \n",
      " >epoch=33, lrate=0.010, error=0.340 \n",
      " >epoch=34, lrate=0.010, error=0.338 \n",
      " >epoch=35, lrate=0.010, error=0.336 \n",
      " >epoch=36, lrate=0.010, error=0.334 \n",
      " >epoch=37, lrate=0.010, error=0.332 \n",
      " >epoch=38, lrate=0.010, error=0.330 \n",
      " >epoch=39, lrate=0.010, error=0.329 \n",
      " >epoch=40, lrate=0.010, error=0.327 \n",
      " >epoch=41, lrate=0.010, error=0.325 \n",
      " >epoch=42, lrate=0.010, error=0.323 \n",
      " >epoch=43, lrate=0.010, error=0.321 \n",
      " >epoch=44, lrate=0.010, error=0.319 \n",
      " >epoch=45, lrate=0.010, error=0.318 \n",
      " >epoch=46, lrate=0.010, error=0.316 \n",
      " >epoch=47, lrate=0.010, error=0.314 \n",
      " >epoch=48, lrate=0.010, error=0.313 \n",
      " >epoch=49, lrate=0.010, error=0.311 \n",
      " >epoch=50, lrate=0.010, error=0.309 \n",
      " >epoch=51, lrate=0.010, error=0.308 \n",
      " >epoch=52, lrate=0.010, error=0.306 \n",
      " >epoch=53, lrate=0.010, error=0.304 \n",
      " >epoch=54, lrate=0.010, error=0.303 \n",
      " >epoch=55, lrate=0.010, error=0.301 \n",
      " >epoch=56, lrate=0.010, error=0.300 \n",
      " >epoch=57, lrate=0.010, error=0.298 \n",
      " >epoch=58, lrate=0.010, error=0.297 \n",
      " >epoch=59, lrate=0.010, error=0.295 \n",
      " >epoch=60, lrate=0.010, error=0.294 \n",
      " >epoch=61, lrate=0.010, error=0.293 \n",
      " >epoch=62, lrate=0.010, error=0.291 \n",
      " >epoch=63, lrate=0.010, error=0.290 \n",
      " >epoch=64, lrate=0.010, error=0.288 \n",
      " >epoch=65, lrate=0.010, error=0.287 \n",
      " >epoch=66, lrate=0.010, error=0.286 \n",
      " >epoch=67, lrate=0.010, error=0.284 \n",
      " >epoch=68, lrate=0.010, error=0.283 \n",
      " >epoch=69, lrate=0.010, error=0.282 \n",
      " >epoch=70, lrate=0.010, error=0.281 \n",
      " >epoch=71, lrate=0.010, error=0.279 \n",
      " >epoch=72, lrate=0.010, error=0.278 \n",
      " >epoch=73, lrate=0.010, error=0.277 \n",
      " >epoch=74, lrate=0.010, error=0.276 \n",
      " >epoch=75, lrate=0.010, error=0.274 \n",
      " >epoch=76, lrate=0.010, error=0.273 \n",
      " >epoch=77, lrate=0.010, error=0.272 \n",
      " >epoch=78, lrate=0.010, error=0.271 \n",
      " >epoch=79, lrate=0.010, error=0.270 \n",
      " >epoch=80, lrate=0.010, error=0.269 \n",
      " >epoch=81, lrate=0.010, error=0.268 \n",
      " >epoch=82, lrate=0.010, error=0.267 \n",
      " >epoch=83, lrate=0.010, error=0.266 \n",
      " >epoch=84, lrate=0.010, error=0.264 \n",
      " >epoch=85, lrate=0.010, error=0.263 \n",
      " >epoch=86, lrate=0.010, error=0.262 \n",
      " >epoch=87, lrate=0.010, error=0.261 \n",
      " >epoch=88, lrate=0.010, error=0.260 \n",
      " >epoch=89, lrate=0.010, error=0.259 \n",
      " >epoch=90, lrate=0.010, error=0.258 \n",
      " >epoch=91, lrate=0.010, error=0.257 \n",
      " >epoch=92, lrate=0.010, error=0.256 \n",
      " >epoch=93, lrate=0.010, error=0.256 \n",
      " >epoch=94, lrate=0.010, error=0.255 \n",
      " >epoch=95, lrate=0.010, error=0.254 \n",
      " >epoch=96, lrate=0.010, error=0.253 \n",
      " >epoch=97, lrate=0.010, error=0.252 \n",
      " >epoch=98, lrate=0.010, error=0.251 \n",
      " >epoch=99, lrate=0.010, error=0.250 \n",
      " >epoch=100, lrate=0.010, error=0.249 \n",
      " >epoch=101, lrate=0.010, error=0.248 \n",
      " >epoch=102, lrate=0.010, error=0.248 \n",
      " >epoch=103, lrate=0.010, error=0.247 \n",
      " >epoch=104, lrate=0.010, error=0.246 \n",
      " >epoch=105, lrate=0.010, error=0.245 \n",
      " >epoch=106, lrate=0.010, error=0.244 \n",
      " >epoch=107, lrate=0.010, error=0.243 \n",
      " >epoch=108, lrate=0.010, error=0.243 \n",
      " >epoch=109, lrate=0.010, error=0.242 \n",
      " >epoch=110, lrate=0.010, error=0.241 \n",
      " >epoch=111, lrate=0.010, error=0.240 \n",
      " >epoch=112, lrate=0.010, error=0.240 \n",
      " >epoch=113, lrate=0.010, error=0.239 \n",
      " >epoch=114, lrate=0.010, error=0.238 \n",
      " >epoch=115, lrate=0.010, error=0.237 \n",
      " >epoch=116, lrate=0.010, error=0.237 \n",
      " >epoch=117, lrate=0.010, error=0.236 \n",
      " >epoch=118, lrate=0.010, error=0.235 \n",
      " >epoch=119, lrate=0.010, error=0.235 \n",
      " >epoch=120, lrate=0.010, error=0.234 \n",
      " >epoch=121, lrate=0.010, error=0.233 \n",
      " >epoch=122, lrate=0.010, error=0.233 \n",
      " >epoch=123, lrate=0.010, error=0.232 \n",
      " >epoch=124, lrate=0.010, error=0.231 \n",
      " >epoch=125, lrate=0.010, error=0.231 \n",
      " >epoch=126, lrate=0.010, error=0.230 \n",
      " >epoch=127, lrate=0.010, error=0.229 \n",
      " >epoch=128, lrate=0.010, error=0.229 \n",
      " >epoch=129, lrate=0.010, error=0.228 \n",
      " >epoch=130, lrate=0.010, error=0.228 \n",
      " >epoch=131, lrate=0.010, error=0.227 \n",
      " >epoch=132, lrate=0.010, error=0.226 \n",
      " >epoch=133, lrate=0.010, error=0.226 \n",
      " >epoch=134, lrate=0.010, error=0.225 \n",
      " >epoch=135, lrate=0.010, error=0.225 \n",
      " >epoch=136, lrate=0.010, error=0.224 \n",
      " >epoch=137, lrate=0.010, error=0.224 \n",
      " >epoch=138, lrate=0.010, error=0.223 \n",
      " >epoch=139, lrate=0.010, error=0.222 \n",
      " >epoch=140, lrate=0.010, error=0.222 \n",
      " >epoch=141, lrate=0.010, error=0.221 \n",
      " >epoch=142, lrate=0.010, error=0.221 \n",
      " >epoch=143, lrate=0.010, error=0.220 \n",
      " >epoch=144, lrate=0.010, error=0.220 \n",
      " >epoch=145, lrate=0.010, error=0.219 \n",
      " >epoch=146, lrate=0.010, error=0.219 \n",
      " >epoch=147, lrate=0.010, error=0.218 \n",
      " >epoch=148, lrate=0.010, error=0.218 \n",
      " >epoch=149, lrate=0.010, error=0.217 \n",
      " >epoch=150, lrate=0.010, error=0.217 \n",
      " >epoch=151, lrate=0.010, error=0.216 \n",
      " >epoch=152, lrate=0.010, error=0.216 \n",
      " >epoch=153, lrate=0.010, error=0.215 \n",
      " >epoch=154, lrate=0.010, error=0.215 \n",
      " >epoch=155, lrate=0.010, error=0.214 \n",
      " >epoch=156, lrate=0.010, error=0.214 \n",
      " >epoch=157, lrate=0.010, error=0.214 \n",
      " >epoch=158, lrate=0.010, error=0.213 \n",
      " >epoch=159, lrate=0.010, error=0.213 \n",
      " >epoch=160, lrate=0.010, error=0.212 \n",
      " >epoch=161, lrate=0.010, error=0.212 \n",
      " >epoch=162, lrate=0.010, error=0.211 \n",
      " >epoch=163, lrate=0.010, error=0.211 \n",
      " >epoch=164, lrate=0.010, error=0.211 \n",
      " >epoch=165, lrate=0.010, error=0.210 \n",
      " >epoch=166, lrate=0.010, error=0.210 \n",
      " >epoch=167, lrate=0.010, error=0.209 \n",
      " >epoch=168, lrate=0.010, error=0.209 \n",
      " >epoch=169, lrate=0.010, error=0.209 \n",
      " >epoch=170, lrate=0.010, error=0.208 \n",
      " >epoch=171, lrate=0.010, error=0.208 \n",
      " >epoch=172, lrate=0.010, error=0.207 \n",
      " >epoch=173, lrate=0.010, error=0.207 \n",
      " >epoch=174, lrate=0.010, error=0.207 \n",
      " >epoch=175, lrate=0.010, error=0.206 \n",
      " >epoch=176, lrate=0.010, error=0.206 \n",
      " >epoch=177, lrate=0.010, error=0.206 \n",
      " >epoch=178, lrate=0.010, error=0.205 \n",
      " >epoch=179, lrate=0.010, error=0.205 \n",
      " >epoch=180, lrate=0.010, error=0.204 \n",
      " >epoch=181, lrate=0.010, error=0.204 \n",
      " >epoch=182, lrate=0.010, error=0.204 \n",
      " >epoch=183, lrate=0.010, error=0.203 \n",
      " >epoch=184, lrate=0.010, error=0.203 \n",
      " >epoch=185, lrate=0.010, error=0.203 \n",
      " >epoch=186, lrate=0.010, error=0.202 \n",
      " >epoch=187, lrate=0.010, error=0.202 \n",
      " >epoch=188, lrate=0.010, error=0.202 \n",
      " >epoch=189, lrate=0.010, error=0.201 \n",
      " >epoch=190, lrate=0.010, error=0.201 \n",
      " >epoch=191, lrate=0.010, error=0.201 \n",
      " >epoch=192, lrate=0.010, error=0.201 \n",
      " >epoch=193, lrate=0.010, error=0.200 \n",
      " >epoch=194, lrate=0.010, error=0.200 \n",
      " >epoch=195, lrate=0.010, error=0.200 \n",
      " >epoch=196, lrate=0.010, error=0.199 \n",
      " >epoch=197, lrate=0.010, error=0.199 \n",
      " >epoch=198, lrate=0.010, error=0.199 \n",
      " >epoch=199, lrate=0.010, error=0.198 \n",
      " >epoch=200, lrate=0.010, error=0.198 \n"
     ]
    }
   ],
   "source": [
    "# set the learning rate and the # of epocs\n",
    "l_rate = 0.01\n",
    "n_epoch = 200\n",
    "\n",
    "# Calculate the coefficients using the \"coefficients_sgd\" function\n",
    "coef_sgd = coefficients_sgd(X_train, y_train, l_rate, n_epoch)"
   ]
  },
  {
   "cell_type": "markdown",
   "metadata": {},
   "source": [
    "(f) Make a prediction using the coefficients you found from SGD algorithm in previous step **(Y prediction sgd = X test.dot(coef sgd))**; Use both the mean square error and coeffi- cient of determination R2 to measure the performance of your predictions; compare the results with your prediction performance in part d where you used the coefficients found from Normal Equation Method. Which method gives you better results? (6 points)\n"
   ]
  },
  {
   "cell_type": "code",
   "execution_count": 21,
   "metadata": {},
   "outputs": [],
   "source": [
    "# Calculate the predictions \n",
    "\n",
    "preds_sgd = predict(X_test, coef_sgd)\n",
    "\n"
   ]
  },
  {
   "cell_type": "code",
   "execution_count": 22,
   "metadata": {},
   "outputs": [
    {
     "name": "stdout",
     "output_type": "stream",
     "text": [
      "The MSE for the model is: 3.899286562084085e-05\n"
     ]
    }
   ],
   "source": [
    "#predicting using mean square error\n",
    "from sklearn.metrics import mean_squared_error\n",
    "mse=mean_squared_error(y_test,preds_sgd )\n",
    "print('The MSE for the model is:', mse)"
   ]
  },
  {
   "cell_type": "code",
   "execution_count": 23,
   "metadata": {},
   "outputs": [
    {
     "name": "stdout",
     "output_type": "stream",
     "text": [
      "R2 is: 0.9992884132600274\n"
     ]
    }
   ],
   "source": [
    "#predicting using R2\n",
    "from sklearn.metrics import r2_score\n",
    "r2=r2_score(y_test, preds_sgd)\n",
    "print(\"R2 is:\", r2)"
   ]
  },
  {
   "cell_type": "markdown",
   "metadata": {},
   "source": [
    "#### After predicting the MSE and R2 for two models i.e Linear Regression with normal equation and linear regression using gradient descent algorithm better predictions have been Occurred for linear regression using normal equation which is the better model as it got 2.14 as MSE(the lower the mse the better model) and 0.99959(good value) for R2 where as gradient descent equation outputs are 3.899 for MSE and 0.999288 for R2 .I would prefer normal equation model as it metrics are more relatable to select as a better model."
   ]
  },
  {
   "cell_type": "markdown",
   "metadata": {},
   "source": [
    "**2. Problem 2: Create a Perceptron model with an optimal value of hyperparameter α (learning rate of SGD) (18 points)**"
   ]
  },
  {
   "cell_type": "code",
   "execution_count": 24,
   "metadata": {},
   "outputs": [],
   "source": [
    "from numpy import mean\n",
    "from numpy import std\n",
    "from sklearn.model_selection import cross_val_score\n",
    "from sklearn.model_selection import RepeatedStratifiedKFold\n",
    "from sklearn.linear_model import Perceptron\n",
    "from sklearn.model_selection import train_test_split\n",
    "from sklearn.metrics import f1_score\n",
    "from sklearn.metrics import accuracy_score"
   ]
  },
  {
   "cell_type": "code",
   "execution_count": 25,
   "metadata": {},
   "outputs": [],
   "source": [
    "# read and load the csv data file\n",
    "filename = \"sonar.all-data.csv\" \n",
    "\n",
    "data_csv = read_csv(filename)"
   ]
  },
  {
   "cell_type": "markdown",
   "metadata": {},
   "source": [
    "(a) Split your data into train and test portions with ‘test size = 0.3’ and ’random state = 3’ . Define your learning model to be Perceptron. Use **RepeatedStratifiedKFold** with **‘n splits=10’, ‘n repeats=5’, and ‘random state=1’ as your model evaluation method. (6 points)"
   ]
  },
  {
   "cell_type": "code",
   "execution_count": 26,
   "metadata": {},
   "outputs": [],
   "source": [
    "#converting the dataset to a numpy array\n",
    "\n",
    "array = data_csv.values\n",
    "\n",
    "# separate array into input and output components\n",
    "\n",
    "X = array[:,:-1] \n",
    "Y = array[:,-1]\n",
    "\n",
    "# Split the data into train and test portions\n",
    "\n",
    "X_train, X_test, y_train, y_test = train_test_split(X, Y, test_size=0.3, random_state=3)\n",
    "\n"
   ]
  },
  {
   "cell_type": "code",
   "execution_count": 27,
   "metadata": {},
   "outputs": [
    {
     "name": "stdout",
     "output_type": "stream",
     "text": [
      "Mean Accuracy: 0.664 - Std: 0.119\n",
      "Accuracy: 0.651\n",
      "F1-Score: 0.500\n"
     ]
    }
   ],
   "source": [
    "\n",
    "#define model\n",
    "model = Perceptron()\n",
    "# define model evaluation method\n",
    "cv = RepeatedStratifiedKFold(n_splits=10, n_repeats=5, random_state=1)\n",
    "results = cross_val_score(model, X_train, y_train, cv=cv, n_jobs=-1)\n",
    "model.fit(X_train, y_train)\n",
    "pred = model.predict(X_test)\n",
    "print('Mean Accuracy: %.3f - Std: %.3f' % (results.mean(), results.std()))\n",
    "print('Accuracy: %.3f' % accuracy_score(pred, y_test))\n",
    "print('F1-Score: %.3f' % f1_score(pred, y_test))"
   ]
  },
  {
   "cell_type": "markdown",
   "metadata": {},
   "source": [
    "(b) Use **GridSearchCV** to perform a gird search on the parameter of Perceptron algorithm (learn- ing rate α in SGD), consider values for α as [0.0001, 0.001, 0.01, 0.1]. For your GridSearch, use data only from your training sets (X train, Y train). (6 points)"
   ]
  },
  {
   "cell_type": "code",
   "execution_count": 28,
   "metadata": {},
   "outputs": [],
   "source": [
    "from sklearn.model_selection import GridSearchCV\n",
    "# Define Grid \n",
    "\n",
    "grid = dict()\n",
    "grid['alpha'] = [0.0001, 0.001, 0.01, 0.1] # Regularization term "
   ]
  },
  {
   "cell_type": "code",
   "execution_count": 29,
   "metadata": {},
   "outputs": [],
   "source": [
    "# Define search\n",
    "\n",
    "search= GridSearchCV(model, grid, cv=cv, n_jobs=-1)\n",
    "\n",
    "# Perform the search \n",
    "\n",
    "results_grid = search.fit(X_train, y_train)"
   ]
  },
  {
   "cell_type": "markdown",
   "metadata": {},
   "source": [
    "(c) Report the best score and the best value of the parameter in your search. (2 points)\n"
   ]
  },
  {
   "cell_type": "code",
   "execution_count": 30,
   "metadata": {},
   "outputs": [
    {
     "name": "stdout",
     "output_type": "stream",
     "text": [
      "Mean Accuracy: 0.664\n",
      "The best value of the parameter alpha is : {'alpha': 0.0001}\n"
     ]
    }
   ],
   "source": [
    "# summarize\n",
    "print('Mean Accuracy: %.3f' % results_grid.best_score_)\n",
    "print('The best value of the parameter alpha is : %s' % results_grid.best_params_)"
   ]
  },
  {
   "cell_type": "markdown",
   "metadata": {},
   "source": [
    "(d) Create a Perceptron model which takes as an argument the best value of parameter you found in the previous step, and use this model to make predictions on your test set; Report the accuracy. (4 points)"
   ]
  },
  {
   "cell_type": "code",
   "execution_count": 31,
   "metadata": {},
   "outputs": [
    {
     "name": "stdout",
     "output_type": "stream",
     "text": [
      "Mean Accuracy and std : 0.664 (0.119)\n",
      "Accuracy score of predicted: 0.651\n",
      "F1-Score: 0.500\n"
     ]
    }
   ],
   "source": [
    "#define model\n",
    "model_new=Perceptron(alpha=0.0001)\n",
    "# define model evaluation method\n",
    "cv_new = RepeatedStratifiedKFold(n_splits=10, n_repeats=5, random_state=1)\n",
    "# evaluate model\n",
    "scores = cross_val_score(model, X_train, y_train, scoring='accuracy', cv=cv_new, n_jobs=-1)\n",
    "# summarize result\n",
    "print('Mean Accuracy and std : %.3f (%.3f)' % (mean(scores), std(scores)))\n",
    "model_new.fit(X_train, y_train)\n",
    "pred = model_new.predict(X_test)\n",
    "print('Accuracy score of predicted: %.3f' % accuracy_score(pred, y_test))\n",
    "print('F1-Score: %.3f' % f1_score(pred, y_test))\n"
   ]
  },
  {
   "cell_type": "markdown",
   "metadata": {},
   "source": [
    "**3. Problem 3: Create a KNN model with an optimal value of hyperparameter K (the number of nearest neighbors) (18 points)**"
   ]
  },
  {
   "cell_type": "code",
   "execution_count": 32,
   "metadata": {},
   "outputs": [],
   "source": [
    "#import necessary packages to the Jupyter notebook # Create a KNN model with the best parameter K import pandas as pd\n",
    "import numpy as np\n",
    "import matplotlib.pyplot as plt\n",
    "from pandas import read_csv\n",
    "from sklearn.model_selection import train_test_split \n",
    "from sklearn.metrics import accuracy_score\n",
    "from sklearn.neighbors import KNeighborsClassifier"
   ]
  },
  {
   "cell_type": "markdown",
   "metadata": {},
   "source": [
    "(a) Split the data into train and test sets with **‘test size = 0.3’, and ‘random state = 5’**. Create a KNN model with parameter ‘n neighbor’ varying from 1 to 30 (see the code from Lab Session 6). (8 points)"
   ]
  },
  {
   "cell_type": "code",
   "execution_count": 33,
   "metadata": {},
   "outputs": [],
   "source": [
    "# read and load the csv data file\n",
    "filename = \"sonar.all-data.csv\" \n",
    "dataframe = read_csv(filename)\n",
    "\n",
    "#converting the dataset to a numpy array\n",
    "array = dataframe.values\n",
    "# separate array into input and output components\n",
    "X = array[:,:-1] \n",
    "Y = array[:,-1]\n",
    "\n",
    "# Split the data into train and test sets\n",
    "\n",
    "X_train, X_test, y_train, y_test = train_test_split(X, Y, test_size=0.3, random_state=5)\n",
    "\n",
    "\n"
   ]
  },
  {
   "cell_type": "code",
   "execution_count": 34,
   "metadata": {},
   "outputs": [],
   "source": [
    "#define a model, evaluate abd predict the score \n",
    "scores = {}\n",
    "for k in range(1,31):\n",
    "  knn = KNeighborsClassifier(n_neighbors=k)\n",
    "  knn.fit(X_train, y_train)\n",
    "  y_pred = knn.predict(X_test)\n",
    "  scores[k] = accuracy_score(y_pred, y_test)"
   ]
  },
  {
   "cell_type": "code",
   "execution_count": 35,
   "metadata": {},
   "outputs": [
    {
     "data": {
      "text/plain": [
       "0.6984126984126984"
      ]
     },
     "execution_count": 35,
     "metadata": {},
     "output_type": "execute_result"
    }
   ],
   "source": [
    "scores[k]"
   ]
  },
  {
   "cell_type": "code",
   "execution_count": 36,
   "metadata": {},
   "outputs": [
    {
     "data": {
      "text/plain": [
       "{1: 0.7777777777777778,\n",
       " 2: 0.7142857142857143,\n",
       " 3: 0.7301587301587301,\n",
       " 4: 0.7142857142857143,\n",
       " 5: 0.746031746031746,\n",
       " 6: 0.746031746031746,\n",
       " 7: 0.6507936507936508,\n",
       " 8: 0.6349206349206349,\n",
       " 9: 0.6666666666666666,\n",
       " 10: 0.6666666666666666,\n",
       " 11: 0.6825396825396826,\n",
       " 12: 0.6507936507936508,\n",
       " 13: 0.6666666666666666,\n",
       " 14: 0.6507936507936508,\n",
       " 15: 0.6825396825396826,\n",
       " 16: 0.6666666666666666,\n",
       " 17: 0.6507936507936508,\n",
       " 18: 0.6666666666666666,\n",
       " 19: 0.6507936507936508,\n",
       " 20: 0.7142857142857143,\n",
       " 21: 0.6825396825396826,\n",
       " 22: 0.6825396825396826,\n",
       " 23: 0.6984126984126984,\n",
       " 24: 0.6825396825396826,\n",
       " 25: 0.6825396825396826,\n",
       " 26: 0.6825396825396826,\n",
       " 27: 0.6666666666666666,\n",
       " 28: 0.6984126984126984,\n",
       " 29: 0.7142857142857143,\n",
       " 30: 0.6984126984126984}"
      ]
     },
     "execution_count": 36,
     "metadata": {},
     "output_type": "execute_result"
    }
   ],
   "source": [
    "scores\n"
   ]
  },
  {
   "cell_type": "markdown",
   "metadata": {},
   "source": [
    "(b) Plot the accuracy of the KNN model in terms of the number of nearest neighbor k varying from 1 to 30. Choose and report the best value for k. (5 points)"
   ]
  },
  {
   "cell_type": "code",
   "execution_count": 37,
   "metadata": {},
   "outputs": [
    {
     "data": {
      "image/png": "[encoded data removed]",
      "text/plain": [
       "<Figure size 504x360 with 1 Axes>"
      ]
     },
     "metadata": {
      "needs_background": "light"
     },
     "output_type": "display_data"
    }
   ],
   "source": [
    "plt.figure(figsize=(7,5))\n",
    "plt.plot(list(scores.keys()),list(scores.values()), c='b')\n",
    "plt.title('K-nearest', fontsize=16)\n",
    "plt.xlabel('K value of neighbors', fontsize=12)\n",
    "plt.ylabel('Accuracy value ', fontsize=12)\n",
    "plt.show()"
   ]
  },
  {
   "cell_type": "markdown",
   "metadata": {},
   "source": [
    "(c) Create a new KNN model with the best values of nearest neighbors that you found in previous step, and perform prediction on your test set. Report the accuracy of the model. (5 points)."
   ]
  },
  {
   "cell_type": "markdown",
   "metadata": {},
   "source": [
    "The best kneighbor is 1 from the above problem so selecting that to do the predictions in problem.c"
   ]
  },
  {
   "cell_type": "code",
   "execution_count": 38,
   "metadata": {},
   "outputs": [
    {
     "name": "stdout",
     "output_type": "stream",
     "text": [
      "Mean Accuracy: 0.708 (0.149)\n"
     ]
    }
   ],
   "source": [
    "# Define the model\n",
    "knn= KNeighborsClassifier(n_neighbors=1)\n",
    "\n",
    "# Fit the mode\n",
    "\n",
    "# Define model evaluation method\n",
    "cv = RepeatedStratifiedKFold(n_splits=10, n_repeats=5, random_state=1)\n",
    "\n",
    "# Evaluate model\n",
    "results_knn = cross_val_score(knn, X_test, y_test, scoring='accuracy', cv=cv, n_jobs=-1)\n",
    "\n",
    "print('Mean Accuracy: %.3f (%.3f)' % (results_knn.mean(), results_knn.std()))\n",
    "\n",
    "knn.fit(X_train, y_train)\n",
    "y_pred = knn.predict(X_test)\n",
    "scores = accuracy_score(y_pred, y_test)"
   ]
  },
  {
   "cell_type": "code",
   "execution_count": 39,
   "metadata": {},
   "outputs": [
    {
     "name": "stdout",
     "output_type": "stream",
     "text": [
      "[0. 1. 0. 0. 0. 0. 1. 1. 0. 1. 0. 0. 1. 0. 0. 0. 0. 0. 0. 1. 0. 0. 1. 0.\n",
      " 0. 0. 0. 1. 1. 0. 0. 0. 0. 0. 1. 1. 0. 0. 0. 1. 1. 1. 1. 1. 0. 0. 0. 0.\n",
      " 0. 1. 0. 0. 0. 0. 1. 1. 1. 0. 0. 1. 1. 0. 0.]\n"
     ]
    }
   ],
   "source": [
    "print(y_pred)"
   ]
  },
  {
   "cell_type": "code",
   "execution_count": 40,
   "metadata": {},
   "outputs": [
    {
     "data": {
      "text/plain": [
       "0.7777777777777778"
      ]
     },
     "execution_count": 40,
     "metadata": {},
     "output_type": "execute_result"
    }
   ],
   "source": [
    "#Accuracy score\n",
    "scores"
   ]
  },
  {
   "cell_type": "code",
   "execution_count": null,
   "metadata": {},
   "outputs": [],
   "source": []
  }
 ],
 "metadata": {
  "kernelspec": {
   "display_name": "Python 3 (ipykernel)",
   "language": "python",
   "name": "python3"
  },
  "language_info": {
   "codemirror_mode": {
    "name": "ipython",
    "version": 3
   },
   "file_extension": ".py",
   "mimetype": "text/x-python",
   "name": "python",
   "nbconvert_exporter": "python",
   "pygments_lexer": "ipython3",
   "version": "3.9.7"
  }
 },
 "nbformat": 4,
 "nbformat_minor": 4
}
