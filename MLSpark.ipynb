{
 "cells": [
  {
   "cell_type": "code",
   "execution_count": 1,
   "id": "7fe19b7f-0ac8-4539-925b-f2856efc3592",
   "metadata": {},
   "outputs": [],
   "source": [
    "#LOGISTIC REGRESSION IN PYSPARK"
   ]
  },
  {
   "cell_type": "code",
   "execution_count": 2,
   "id": "7c6bb87c-7e31-44e8-bcce-055c7a74ea09",
   "metadata": {},
   "outputs": [],
   "source": [
    "#import SparkSession\n",
    "from pyspark.sql import SparkSession"
   ]
  },
  {
   "cell_type": "code",
   "execution_count": 3,
   "id": "30130089-6664-4ecb-84fd-eaef0dc898a5",
   "metadata": {},
   "outputs": [],
   "source": [
    "spark = SparkSession.builder.appName('LogisticTIC regression').getOrCreate()"
   ]
  },
  {
   "cell_type": "code",
   "execution_count": 4,
   "id": "6bd63478-f2a8-440c-af58-aab992ba0fa4",
   "metadata": {},
   "outputs": [],
   "source": [
    "#read the dataset\n",
    "data_file = spark.read.csv('data_logistic_regression.csv', inferSchema=True, header=True)"
   ]
  },
  {
   "cell_type": "code",
   "execution_count": 6,
   "id": "b8a2908e-c418-4f75-a606-ab2676e858f3",
   "metadata": {},
   "outputs": [
    {
     "name": "stdout",
     "output_type": "stream",
     "text": [
      "+-----------+-----------+-----+\n",
      "|         x1|         x2|label|\n",
      "+-----------+-----------+-----+\n",
      "|75.01365839|30.60326323|    0|\n",
      "|55.48216114|35.57070347|    0|\n",
      "|95.86155507|38.22527806|    0|\n",
      "| 93.1143888|38.80067034|    0|\n",
      "| 56.2538175|39.26147251|    0|\n",
      "|82.36875376|40.61825516|    0|\n",
      "|66.56089447|41.09209808|    0|\n",
      "|74.78925296|41.57341523|    0|\n",
      "|60.45555629|42.50840944|    0|\n",
      "|82.22666158|42.71987854|    0|\n",
      "+-----------+-----------+-----+\n",
      "only showing top 10 rows\n",
      "\n"
     ]
    }
   ],
   "source": [
    "#Showing first 10 records\n",
    "data_file.show(10)"
   ]
  },
  {
   "cell_type": "code",
   "execution_count": 7,
   "id": "e3f7d07c-87d6-486a-84a8-c956188d824a",
   "metadata": {},
   "outputs": [
    {
     "name": "stdout",
     "output_type": "stream",
     "text": [
      "['x1', 'x2', 'label']\n",
      "80\n"
     ]
    }
   ],
   "source": [
    "#print dataframe columns and count\n",
    "print(data_file.columns)\n",
    "print(data_file.count())"
   ]
  },
  {
   "cell_type": "code",
   "execution_count": 8,
   "id": "518168cf-5be1-4121-a437-850f85172fda",
   "metadata": {},
   "outputs": [
    {
     "name": "stdout",
     "output_type": "stream",
     "text": [
      "root\n",
      " |-- x1: double (nullable = true)\n",
      " |-- x2: double (nullable = true)\n",
      " |-- label: integer (nullable = true)\n",
      "\n"
     ]
    }
   ],
   "source": [
    "data_file.printSchema()"
   ]
  },
  {
   "cell_type": "code",
   "execution_count": 9,
   "id": "bfdd25aa-9398-4796-aa30-315b7f2b2df0",
   "metadata": {},
   "outputs": [],
   "source": [
    "#MISSING RECORDS\n",
    "from pyspark.sql.functions import isnan, when, count, col"
   ]
  },
  {
   "cell_type": "code",
   "execution_count": 11,
   "id": "2d3c57a9-f48e-4ed0-8605-cb6f83a185f6",
   "metadata": {},
   "outputs": [
    {
     "name": "stdout",
     "output_type": "stream",
     "text": [
      "+---+---+-----+\n",
      "| x1| x2|label|\n",
      "+---+---+-----+\n",
      "+---+---+-----+\n",
      "\n"
     ]
    }
   ],
   "source": [
    "#checking miss values for specific columns\n",
    "data_file.filter(data_file['x1'].isNull()).show()"
   ]
  },
  {
   "cell_type": "code",
   "execution_count": 12,
   "id": "afdc80c0-504d-4f8b-980e-6a21a76a0b10",
   "metadata": {},
   "outputs": [
    {
     "name": "stdout",
     "output_type": "stream",
     "text": [
      "+---+---+-----+\n",
      "| x1| x2|label|\n",
      "+---+---+-----+\n",
      "+---+---+-----+\n",
      "\n"
     ]
    }
   ],
   "source": [
    "#checking miss values for specific columns\n",
    "data_file.filter(data_file['x1'].isNull()).show()"
   ]
  },
  {
   "cell_type": "code",
   "execution_count": 13,
   "id": "6b4a9677-e901-4e58-a433-eaa19638f71e",
   "metadata": {},
   "outputs": [
    {
     "name": "stdout",
     "output_type": "stream",
     "text": [
      "+---+---+-----+\n",
      "| x1| x2|label|\n",
      "+---+---+-----+\n",
      "+---+---+-----+\n",
      "\n"
     ]
    }
   ],
   "source": [
    "#checking miss values for specific columns\n",
    "data_file.filter(data_file['label'].isNull()).show()"
   ]
  },
  {
   "cell_type": "code",
   "execution_count": 15,
   "id": "b4bbf6ae-a9fe-4fdc-9798-714a4940c52b",
   "metadata": {},
   "outputs": [
    {
     "name": "stdout",
     "output_type": "stream",
     "text": [
      "+---+---+-----+\n",
      "| x1| x2|label|\n",
      "+---+---+-----+\n",
      "|  0|  0|    0|\n",
      "+---+---+-----+\n",
      "\n"
     ]
    }
   ],
   "source": [
    "data_file.select([count(when(isnan(c), c)).alias(c) for c in data_file.columns]).show()"
   ]
  },
  {
   "cell_type": "code",
   "execution_count": 16,
   "id": "027f5ead-c2da-4adc-8d19-e05ac723d6e4",
   "metadata": {},
   "outputs": [
    {
     "name": "stdout",
     "output_type": "stream",
     "text": [
      "80\n"
     ]
    }
   ],
   "source": [
    "print(data_file.count())"
   ]
  },
  {
   "cell_type": "code",
   "execution_count": 17,
   "id": "2a90cfb1-ed2d-40ef-babf-83c21be0bed8",
   "metadata": {},
   "outputs": [
    {
     "name": "stdout",
     "output_type": "stream",
     "text": [
      "+-----+-----+\n",
      "|label|count|\n",
      "+-----+-----+\n",
      "|    1|   48|\n",
      "|    0|   32|\n",
      "+-----+-----+\n",
      "\n"
     ]
    }
   ],
   "source": [
    "data_file.groupBy('label').count().show()"
   ]
  },
  {
   "cell_type": "code",
   "execution_count": 18,
   "id": "1aec8b00-c8c1-41e1-8960-f9ce3b0608ec",
   "metadata": {},
   "outputs": [],
   "source": [
    "from pyspark.ml.feature import VectorAssembler"
   ]
  },
  {
   "cell_type": "code",
   "execution_count": 19,
   "id": "3068a141-d788-4658-86dd-c0f7af8f6c05",
   "metadata": {},
   "outputs": [],
   "source": [
    "#Using vector assembler to combine all vectors and make it as a single column"
   ]
  },
  {
   "cell_type": "code",
   "execution_count": 20,
   "id": "b80ed059-ea01-449d-a42b-a59da5b63b80",
   "metadata": {},
   "outputs": [
    {
     "data": {
      "text/plain": [
       "['x1', 'x2', 'label']"
      ]
     },
     "execution_count": 20,
     "metadata": {},
     "output_type": "execute_result"
    }
   ],
   "source": [
    "data_file.columns"
   ]
  },
  {
   "cell_type": "code",
   "execution_count": 21,
   "id": "1da4c569-1135-4243-b414-edd4efc6f9a0",
   "metadata": {},
   "outputs": [],
   "source": [
    "inputCols=[\n",
    "        'x1','x2']\n",
    "df_va = VectorAssembler(inputCols = inputCols, outputCol=\"features\")"
   ]
  },
  {
   "cell_type": "code",
   "execution_count": 23,
   "id": "5853dc9c-4019-423d-87aa-05cc64c1e243",
   "metadata": {},
   "outputs": [],
   "source": [
    "#transform the dataset with vector assembler\n",
    "df = df_va.transform(data_file)"
   ]
  },
  {
   "cell_type": "code",
   "execution_count": 25,
   "id": "38992713-25a7-44d3-b394-f2186888f41a",
   "metadata": {},
   "outputs": [
    {
     "name": "stdout",
     "output_type": "stream",
     "text": [
      "+-----------+-----------+--------------------+\n",
      "|         x1|         x2|            features|\n",
      "+-----------+-----------+--------------------+\n",
      "|75.01365839|30.60326323|[75.01365839,30.6...|\n",
      "|55.48216114|35.57070347|[55.48216114,35.5...|\n",
      "|95.86155507|38.22527806|[95.86155507,38.2...|\n",
      "| 93.1143888|38.80067034|[93.1143888,38.80...|\n",
      "| 56.2538175|39.26147251|[56.2538175,39.26...|\n",
      "|82.36875376|40.61825516|[82.36875376,40.6...|\n",
      "|66.56089447|41.09209808|[66.56089447,41.0...|\n",
      "|74.78925296|41.57341523|[74.78925296,41.5...|\n",
      "|60.45555629|42.50840944|[60.45555629,42.5...|\n",
      "|82.22666158|42.71987854|[82.22666158,42.7...|\n",
      "+-----------+-----------+--------------------+\n",
      "only showing top 10 rows\n",
      "\n"
     ]
    }
   ],
   "source": [
    "#showing input and output columns\n",
    "df.select(inputCols + [\"features\"] ).show(10)"
   ]
  },
  {
   "cell_type": "code",
   "execution_count": 28,
   "id": "6ffbeb77-e340-48c1-b986-06e1bf2f1349",
   "metadata": {},
   "outputs": [
    {
     "name": "stdout",
     "output_type": "stream",
     "text": [
      "+-------------------------+-----+\n",
      "|features                 |label|\n",
      "+-------------------------+-----+\n",
      "|[75.01365839,30.60326323]|0    |\n",
      "|[55.48216114,35.57070347]|0    |\n",
      "|[95.86155507,38.22527806]|0    |\n",
      "|[93.1143888,38.80067034] |0    |\n",
      "|[56.2538175,39.26147251] |0    |\n",
      "|[82.36875376,40.61825516]|0    |\n",
      "|[66.56089447,41.09209808]|0    |\n",
      "|[74.78925296,41.57341523]|0    |\n",
      "|[60.45555629,42.50840944]|0    |\n",
      "|[82.22666158,42.71987854]|0    |\n",
      "|[67.37202755,42.83843832]|0    |\n",
      "|[32.72283304,43.30717306]|0    |\n",
      "|[34.21206098,44.2095286] |0    |\n",
      "|[80.19018075,44.82162893]|1    |\n",
      "|[89.84580671,45.35828361]|1    |\n",
      "|[94.83450672,45.6943068] |1    |\n",
      "|[51.04775177,45.82270146]|0    |\n",
      "|[67.94685548,46.67857411]|0    |\n",
      "|[51.54772027,46.85629026]|0    |\n",
      "|[35.28611282,47.02051395]|0    |\n",
      "+-------------------------+-----+\n",
      "only showing top 20 rows\n",
      "\n"
     ]
    }
   ],
   "source": [
    "#Now we need only features and label to build our model. \n",
    "#We will use false keyword to avoid truncation\n",
    "#Showing 20 rows\n",
    "df.select(['features','label']).show(20,False)"
   ]
  },
  {
   "cell_type": "code",
   "execution_count": 29,
   "id": "890d5abf-ebda-4a3d-92a8-45ba448dd271",
   "metadata": {},
   "outputs": [
    {
     "name": "stdout",
     "output_type": "stream",
     "text": [
      "+--------------------+-----+\n",
      "|            features|label|\n",
      "+--------------------+-----+\n",
      "|[75.01365839,30.6...|    0|\n",
      "|[55.48216114,35.5...|    0|\n",
      "|[95.86155507,38.2...|    0|\n",
      "|[93.1143888,38.80...|    0|\n",
      "|[56.2538175,39.26...|    0|\n",
      "|[82.36875376,40.6...|    0|\n",
      "|[66.56089447,41.0...|    0|\n",
      "|[74.78925296,41.5...|    0|\n",
      "|[60.45555629,42.5...|    0|\n",
      "|[82.22666158,42.7...|    0|\n",
      "+--------------------+-----+\n",
      "only showing top 10 rows\n",
      "\n"
     ]
    }
   ],
   "source": [
    "#New dataset has been created with necessary details after data manulpulation\n",
    "df_new = df.select(['features','label'])\n",
    "df_new.show(10)"
   ]
  },
  {
   "cell_type": "code",
   "execution_count": 30,
   "id": "dc278ed8-4210-4618-ac05-0760be22a8c3",
   "metadata": {},
   "outputs": [
    {
     "name": "stdout",
     "output_type": "stream",
     "text": [
      "+-----+-----+\n",
      "|label|count|\n",
      "+-----+-----+\n",
      "|    1|   48|\n",
      "|    0|   32|\n",
      "+-----+-----+\n",
      "\n"
     ]
    }
   ],
   "source": [
    "df_new.groupBy('label').count().show()"
   ]
  },
  {
   "cell_type": "code",
   "execution_count": 31,
   "id": "edad0ca6-1957-4de9-b353-97470b6c3cb9",
   "metadata": {},
   "outputs": [],
   "source": [
    "#Split data into train and test"
   ]
  },
  {
   "cell_type": "code",
   "execution_count": 33,
   "id": "e76b3aa3-2887-4749-8b9f-6786efc0bded",
   "metadata": {},
   "outputs": [],
   "source": [
    "train_data_file, test_data_file = df_new.randomSplit([0.70,0.30])"
   ]
  },
  {
   "cell_type": "code",
   "execution_count": 34,
   "id": "3d223649-e15a-4954-bdd1-c27ce332b3a4",
   "metadata": {},
   "outputs": [
    {
     "data": {
      "text/plain": [
       "54"
      ]
     },
     "execution_count": 34,
     "metadata": {},
     "output_type": "execute_result"
    }
   ],
   "source": [
    "#split data into 70: 30 ratio\n",
    "train_data_file.count()"
   ]
  },
  {
   "cell_type": "code",
   "execution_count": 35,
   "id": "70178272-5433-47e8-8e7e-a9c78007e7e7",
   "metadata": {},
   "outputs": [
    {
     "data": {
      "text/plain": [
       "26"
      ]
     },
     "execution_count": 35,
     "metadata": {},
     "output_type": "execute_result"
    }
   ],
   "source": [
    "test_data_file.count()"
   ]
  },
  {
   "cell_type": "code",
   "execution_count": 36,
   "id": "f09d31a4-692a-40a0-a4be-bff27266a4af",
   "metadata": {},
   "outputs": [
    {
     "name": "stdout",
     "output_type": "stream",
     "text": [
      "+-----+-----+\n",
      "|label|count|\n",
      "+-----+-----+\n",
      "|    1|   35|\n",
      "|    0|   19|\n",
      "+-----+-----+\n",
      "\n"
     ]
    }
   ],
   "source": [
    "train_data_file.groupBy('label').count().show()"
   ]
  },
  {
   "cell_type": "code",
   "execution_count": 37,
   "id": "481a9fb7-b3cc-4f71-ba48-057d453407a4",
   "metadata": {},
   "outputs": [
    {
     "name": "stdout",
     "output_type": "stream",
     "text": [
      "+-----+-----+\n",
      "|label|count|\n",
      "+-----+-----+\n",
      "|    1|   13|\n",
      "|    0|   13|\n",
      "+-----+-----+\n",
      "\n"
     ]
    }
   ],
   "source": [
    "test_data_file.groupBy('label').count().show()"
   ]
  },
  {
   "cell_type": "code",
   "execution_count": 38,
   "id": "baf437dc-615c-41d8-a7a0-a977fbd95405",
   "metadata": {},
   "outputs": [],
   "source": [
    "#Creating logistic regression model and train\n",
    "from pyspark.ml.classification import LogisticRegression"
   ]
  },
  {
   "cell_type": "code",
   "execution_count": 39,
   "id": "21c37f79-72f1-4290-8e5c-04cd490e5f6f",
   "metadata": {},
   "outputs": [
    {
     "data": {
      "text/plain": [
       "LogisticRegression_dad39230e28d"
      ]
     },
     "execution_count": 39,
     "metadata": {},
     "output_type": "execute_result"
    }
   ],
   "source": [
    "log_model = LogisticRegression(labelCol='label')\n",
    "log_model"
   ]
  },
  {
   "cell_type": "code",
   "execution_count": 40,
   "id": "4d137e46-98e5-4ce0-b2f1-05ed57e39070",
   "metadata": {},
   "outputs": [],
   "source": [
    "#Train the model\n",
    "trainlog_model = log_model.fit(train_data_file)"
   ]
  },
  {
   "cell_type": "code",
   "execution_count": 41,
   "id": "0421b01c-3309-4d85-a840-358d0bf8a6ad",
   "metadata": {},
   "outputs": [
    {
     "data": {
      "text/plain": [
       "LogisticRegressionModel: uid=LogisticRegression_dad39230e28d, numClasses=2, numFeatures=2"
      ]
     },
     "execution_count": 41,
     "metadata": {},
     "output_type": "execute_result"
    }
   ],
   "source": [
    "trainlog_model"
   ]
  },
  {
   "cell_type": "code",
   "execution_count": 43,
   "id": "b92b208a-e69f-431c-9ec2-1d6353bedc04",
   "metadata": {},
   "outputs": [
    {
     "name": "stdout",
     "output_type": "stream",
     "text": [
      "+--------------------+-----+--------------------+--------------------+----------+\n",
      "|            features|label|       rawPrediction|         probability|prediction|\n",
      "+--------------------+-----+--------------------+--------------------+----------+\n",
      "|[30.05882245,49.5...|    0|[13.5163915746619...|[0.99999865133173...|       0.0|\n",
      "|[34.18364003,75.2...|    0|[3.63234085531994...|[0.97422760138814...|       0.0|\n",
      "|[34.21206098,44.2...|    0|[14.0197036522638...|[0.99999918469573...|       0.0|\n",
      "|[35.28611282,47.0...|    0|[12.7415529601814...|[0.99999707306830...|       0.0|\n",
      "|[40.45755098,97.5...|    1|[-5.8030962733831...|[0.00300911301550...|       1.0|\n",
      "|[42.07545454,78.8...|    0|[-0.0473136950780...|[0.48817378231503...|       1.0|\n",
      "|[42.26170081,87.1...|    1|[-2.8729015107708...|[0.05350951086959...|       1.0|\n",
      "|[44.66826172,66.4...|    0|[3.29377994283268...|[0.96421480868050...|       0.0|\n",
      "|[47.26426911,88.4...|    1|[-4.8990052582194...|[0.00739884324914...|       1.0|\n",
      "|[50.4581598,75.80...|    1|[-1.6552189487906...|[0.16040484066646...|       1.0|\n",
      "+--------------------+-----+--------------------+--------------------+----------+\n",
      "only showing top 10 rows\n",
      "\n"
     ]
    }
   ],
   "source": [
    "#Evalute the model\n",
    "#Know the predictons of the model\n",
    "#train predictions\n",
    "\n",
    "train_predict = trainlog_model.evaluate(train_data_file).predictions\n",
    "train_predict.show(10)"
   ]
  },
  {
   "cell_type": "code",
   "execution_count": 44,
   "id": "fc12fd3d-1a3b-45c5-b95b-ee64a14ac027",
   "metadata": {},
   "outputs": [],
   "source": [
    "#Our trained model made a mistake of predicting for 6th row instaed of 0 it predicted 1\n",
    "#Print label, prediction and probability and ratios\n",
    "#Using multiple filters, we can count various metrics. Let us first count 0 and 1 in lables:"
   ]
  },
  {
   "cell_type": "code",
   "execution_count": 45,
   "id": "36e3415f-e81c-4a9b-8b1b-9e4b9ec65602",
   "metadata": {},
   "outputs": [
    {
     "data": {
      "text/plain": [
       "(35, 19)"
      ]
     },
     "execution_count": 45,
     "metadata": {},
     "output_type": "execute_result"
    }
   ],
   "source": [
    "train_count_1 = train_data_file.filter(train_data_file['label'] == 1).count()\n",
    "train_count_0 = train_data_file.filter(train_data_file['label'] == 0).count()\n",
    "train_count_1, train_count_0"
   ]
  },
  {
   "cell_type": "code",
   "execution_count": 48,
   "id": "8bd81d9e-a200-444a-810f-5c78711985a0",
   "metadata": {},
   "outputs": [
    {
     "name": "stdout",
     "output_type": "stream",
     "text": [
      "Correct predictions:  33\n",
      "Accuracy: 0.9428571428571428\n",
      "\n",
      "+-----+----------+------------------------------------------+\n",
      "|label|prediction|probability                               |\n",
      "+-----+----------+------------------------------------------+\n",
      "|1    |1.0       |[0.003009113015504938,0.9969908869844951] |\n",
      "|1    |1.0       |[0.05350951086959895,0.946490489130401]   |\n",
      "|1    |1.0       |[0.007398843249142807,0.9926011567508571] |\n",
      "|1    |1.0       |[0.16040484066646168,0.8395951593335383]  |\n",
      "|1    |1.0       |[0.02029882755429684,0.9797011724457032]  |\n",
      "|1    |1.0       |[0.01680725652444675,0.9831927434755533]  |\n",
      "|1    |1.0       |[0.032541883343978346,0.9674581166560217] |\n",
      "|1    |1.0       |[0.0012895395789295125,0.9987104604210705]|\n",
      "|1    |1.0       |[4.715378301671804E-4,0.9995284621698328] |\n",
      "|1    |1.0       |[2.5598102375677967E-5,0.9999744018976243]|\n",
      "|1    |1.0       |[3.327342308629649E-7,0.9999996672657692] |\n",
      "|1    |1.0       |[1.1040099089773255E-6,0.9999988959900911]|\n",
      "|1    |1.0       |[9.878758035725688E-5,0.9999012124196427] |\n",
      "|1    |1.0       |[8.251979603357862E-4,0.9991748020396642] |\n",
      "|1    |1.0       |[4.9891876389876615E-6,0.999995010812361] |\n",
      "|1    |1.0       |[9.502413911698784E-7,0.9999990497586089] |\n",
      "|1    |1.0       |[2.767772302164939E-6,0.9999972322276979] |\n",
      "|1    |1.0       |[5.652008261950569E-7,0.9999994347991739] |\n",
      "|1    |1.0       |[0.37770088360523935,0.6222991163947607]  |\n",
      "|1    |1.0       |[3.4751392958254617E-4,0.9996524860704175]|\n",
      "+-----+----------+------------------------------------------+\n",
      "only showing top 20 rows\n",
      "\n"
     ]
    }
   ],
   "source": [
    "#Eval correct predictions\n",
    "correct_predictions = train_predict.filter(\n",
    "train_predict['label'] == 1).filter(\n",
    "train_predict['prediction'] == 1).select(\n",
    "['label','prediction','probability'])\n",
    "print(\"Correct predictions: \", correct_predictions.count())\n",
    "accuracy = (correct_predictions.count()) /  train_count_1\n",
    "print(f\"Accuracy: {accuracy}\\n\")\n",
    "correct_predictions.show(20,False)"
   ]
  },
  {
   "cell_type": "markdown",
   "id": "61a4a6e0-2c3a-443e-8a5e-7abab4c2aa2d",
   "metadata": {},
   "source": [
    "  #(2) Please draw a ROC curse using \"matplotlib.pyplot\". Its x-axis is \"False Positive Rate\", and y-axis is  \"True Positive Rate\". (3 points)#"
   ]
  },
  {
   "cell_type": "markdown",
   "id": "3c23ff8b-1f49-4597-a534-086cb888294b",
   "metadata": {},
   "source": [
    "False positive:"
   ]
  },
  {
   "cell_type": "code",
   "execution_count": 50,
   "id": "dcda7d01-d455-4e2c-8b9a-44371250c45f",
   "metadata": {},
   "outputs": [
    {
     "name": "stdout",
     "output_type": "stream",
     "text": [
      "False positive:  3\n",
      "+-----+----------+----------------------------------------+\n",
      "|label|prediction|probability                             |\n",
      "+-----+----------+----------------------------------------+\n",
      "|0    |1.0       |[0.4881737823150336,0.5118262176849664] |\n",
      "|0    |1.0       |[0.35956730993747293,0.640432690062527] |\n",
      "|0    |1.0       |[0.37391561294306613,0.6260843870569339]|\n",
      "+-----+----------+----------------------------------------+\n",
      "\n"
     ]
    }
   ],
   "source": [
    "fp = train_predict.filter(\n",
    "train_predict['label'] == 0).filter(\n",
    "train_predict['prediction'] == 1).select(\n",
    "['label','prediction','probability'])\n",
    "print(\"False positive: \", fp.count())\n",
    "fp.show(10,False)\n"
   ]
  },
  {
   "cell_type": "markdown",
   "id": "2c4991c2-20fa-4b80-944e-12b9f5eb2a6a",
   "metadata": {},
   "source": [
    "False positive:"
   ]
  },
  {
   "cell_type": "code",
   "execution_count": 52,
   "id": "901b0fd4-3dfd-4e47-9e38-3097a9079bb1",
   "metadata": {},
   "outputs": [
    {
     "name": "stdout",
     "output_type": "stream",
     "text": [
      "False positive:  3\n",
      "+-----+----------+----------------------------------------+\n",
      "|label|prediction|probability                             |\n",
      "+-----+----------+----------------------------------------+\n",
      "|0    |1.0       |[0.4881737823150336,0.5118262176849664] |\n",
      "|0    |1.0       |[0.35956730993747293,0.640432690062527] |\n",
      "|0    |1.0       |[0.37391561294306613,0.6260843870569339]|\n",
      "+-----+----------+----------------------------------------+\n",
      "\n"
     ]
    }
   ],
   "source": [
    "fp = train_predict.filter(\n",
    "train_predict['label'] == 0).filter(\n",
    "train_predict['prediction'] == 1).select(\n",
    "['label','prediction','probability'])\n",
    "print(\"False positive: \", fp.count())\n",
    "fp.show(10,False)"
   ]
  },
  {
   "cell_type": "code",
   "execution_count": 55,
   "id": "6b42a79e-378e-4933-bcc1-20eff329f682",
   "metadata": {},
   "outputs": [
    {
     "name": "stdout",
     "output_type": "stream",
     "text": [
      "+-------------------------+-----+------------------------------------------+------------------------------------------+----------+\n",
      "|features                 |label|rawPrediction                             |probability                               |prediction|\n",
      "+-------------------------+-----+------------------------------------------+------------------------------------------+----------+\n",
      "|[32.72283304,43.30717306]|0    |[14.788351028163557,-14.788351028163557]  |[0.9999996219923509,3.780076490711437E-7] |0.0       |\n",
      "|[33.91550011,98.86943574]|0    |[-4.2017085265174,4.2017085265174]        |[0.014749183397691613,0.9852508166023084] |1.0       |\n",
      "|[38.7858038,64.99568096] |0    |[5.622999611630853,-5.622999611630853]    |[0.996399227533402,0.003600772466597957]  |0.0       |\n",
      "|[39.53833914,98.9554206] |0    |[-5.991135639520181,5.991135639520181]    |[0.0024945838929209844,0.997505416107079] |1.0       |\n",
      "|[49.07256322,51.88321182]|0    |[6.795466181330667,-6.795466181330667]    |[0.9988824141287721,0.0011175858712278997]|0.0       |\n",
      "|[50.53478829,48.85581153]|0    |[7.351972331157661,-7.351972331157661]    |[0.9993590848312213,6.409151687787329E-4] |0.0       |\n",
      "|[51.54772027,46.85629026]|0    |[7.704760950026337,-7.704760950026337]    |[0.9995495265985392,4.504734014607603E-4] |0.0       |\n",
      "|[52.04540477,69.43286012]|1    |[-0.01554695982026999,0.01554695982026999]|[0.49611333833103904,0.503886661668961]   |1.0       |\n",
      "|[53.97105215,89.20735014]|1    |[-7.244116131266537,7.244116131266537]    |[7.138553254986067E-4,0.9992861446745014] |1.0       |\n",
      "|[58.84095622,75.85844831]|1    |[-4.296310994357086,4.296310994357086]    |[0.013435728703908975,0.986564271296091]  |1.0       |\n",
      "+-------------------------+-----+------------------------------------------+------------------------------------------+----------+\n",
      "only showing top 10 rows\n",
      "\n"
     ]
    }
   ],
   "source": [
    "#Predict test data\n",
    "test_predict = trainlog_model.evaluate(test_data_file).predictions\n",
    "test_predict.show(10, False)"
   ]
  },
  {
   "cell_type": "markdown",
   "id": "a86c6615-2179-48bb-a9dc-f3d9fd5a659a",
   "metadata": {},
   "source": [
    "Correct predictions on Test Data"
   ]
  },
  {
   "cell_type": "code",
   "execution_count": 53,
   "id": "302c41be-fd5d-4887-b669-409d5dec4a68",
   "metadata": {},
   "outputs": [
    {
     "data": {
      "text/plain": [
       "(13, 13)"
      ]
     },
     "execution_count": 53,
     "metadata": {},
     "output_type": "execute_result"
    }
   ],
   "source": [
    "test_count_1 = test_data_file.filter(test_data_file['label'] == 1).count()\n",
    "test_count_0 = test_data_file.filter(test_data_file['label'] == 0).count()\n",
    "test_count_1, test_count_0"
   ]
  },
  {
   "cell_type": "code",
   "execution_count": 57,
   "id": "127682f5-7d73-4cb3-b02c-58e0436c0523",
   "metadata": {},
   "outputs": [
    {
     "name": "stdout",
     "output_type": "stream",
     "text": [
      "Correct predictions:  12\n",
      "Accuracy: 0.9230769230769231\n",
      "\n",
      "+-----+----------+-----------------------------------------+\n",
      "|label|prediction|probability                              |\n",
      "+-----+----------+-----------------------------------------+\n",
      "|1    |1.0       |[0.49611333833103904,0.503886661668961]  |\n",
      "|1    |1.0       |[7.138553254986067E-4,0.9992861446745014]|\n",
      "|1    |1.0       |[0.013435728703908975,0.986564271296091] |\n",
      "|1    |1.0       |[0.1430211837919665,0.8569788162080335]  |\n",
      "|1    |1.0       |[0.020931683657660335,0.9790683163423397]|\n",
      "+-----+----------+-----------------------------------------+\n",
      "only showing top 5 rows\n",
      "\n"
     ]
    }
   ],
   "source": [
    "cp_test = test_predict.filter(\n",
    "test_predict['label'] == 1).filter(\n",
    "test_predict['prediction'] == 1).select(\n",
    "['label','prediction','probability'])\n",
    "print(\"Correct predictions: \", cp_test.count())\n",
    "accuracy = (cp_test.count()) /  test_count_1\n",
    "print(f\"Accuracy: {accuracy}\\n\")\n",
    "cp_test.show(5,False)"
   ]
  },
  {
   "cell_type": "code",
   "execution_count": 58,
   "id": "0b3871d4-3a34-454f-84c0-d43ce24519f4",
   "metadata": {},
   "outputs": [
    {
     "name": "stdout",
     "output_type": "stream",
     "text": [
      "False positive:  4\n",
      "+-----+----------+-----------------------------------------+\n",
      "|label|prediction|probability                              |\n",
      "+-----+----------+-----------------------------------------+\n",
      "|0    |1.0       |[0.014749183397691613,0.9852508166023084]|\n",
      "|0    |1.0       |[0.0024945838929209844,0.997505416107079]|\n",
      "|0    |1.0       |[0.06840553792637286,0.9315944620736272] |\n",
      "|0    |1.0       |[0.03630416124001713,0.9636958387599829] |\n",
      "+-----+----------+-----------------------------------------+\n",
      "\n"
     ]
    }
   ],
   "source": [
    "#False Positive\n",
    "fp = test_predict.filter(\n",
    "test_predict['label'] == 0).filter(\n",
    "test_predict['prediction'] == 1).select(\n",
    "['label','prediction','probability'])\n",
    "print(\"False positive: \", fp.count())\n",
    "fp.show(5,False)"
   ]
  },
  {
   "cell_type": "code",
   "execution_count": 63,
   "id": "7ae30836-4df0-457c-9201-f5e1ba093f46",
   "metadata": {},
   "outputs": [
    {
     "data": {
      "text/plain": [
       "[Row(TPR=0.0),\n",
       " Row(TPR=0.02857142857142857),\n",
       " Row(TPR=0.05714285714285714),\n",
       " Row(TPR=0.08571428571428572),\n",
       " Row(TPR=0.11428571428571428),\n",
       " Row(TPR=0.14285714285714285),\n",
       " Row(TPR=0.17142857142857143),\n",
       " Row(TPR=0.2),\n",
       " Row(TPR=0.22857142857142856),\n",
       " Row(TPR=0.2571428571428571),\n",
       " Row(TPR=0.2857142857142857),\n",
       " Row(TPR=0.3142857142857143),\n",
       " Row(TPR=0.34285714285714286),\n",
       " Row(TPR=0.37142857142857144),\n",
       " Row(TPR=0.4),\n",
       " Row(TPR=0.42857142857142855),\n",
       " Row(TPR=0.45714285714285713),\n",
       " Row(TPR=0.4857142857142857),\n",
       " Row(TPR=0.5142857142857142),\n",
       " Row(TPR=0.5428571428571428),\n",
       " Row(TPR=0.5714285714285714),\n",
       " Row(TPR=0.6),\n",
       " Row(TPR=0.6285714285714286),\n",
       " Row(TPR=0.6571428571428571),\n",
       " Row(TPR=0.6857142857142857),\n",
       " Row(TPR=0.7142857142857143),\n",
       " Row(TPR=0.7428571428571429),\n",
       " Row(TPR=0.7714285714285715),\n",
       " Row(TPR=0.8),\n",
       " Row(TPR=0.8285714285714286),\n",
       " Row(TPR=0.8571428571428571),\n",
       " Row(TPR=0.8857142857142857),\n",
       " Row(TPR=0.9142857142857143),\n",
       " Row(TPR=0.9142857142857143),\n",
       " Row(TPR=0.9142857142857143),\n",
       " Row(TPR=0.9428571428571428),\n",
       " Row(TPR=0.9428571428571428),\n",
       " Row(TPR=0.9428571428571428),\n",
       " Row(TPR=0.9714285714285714),\n",
       " Row(TPR=1.0),\n",
       " Row(TPR=1.0),\n",
       " Row(TPR=1.0),\n",
       " Row(TPR=1.0),\n",
       " Row(TPR=1.0),\n",
       " Row(TPR=1.0),\n",
       " Row(TPR=1.0),\n",
       " Row(TPR=1.0),\n",
       " Row(TPR=1.0),\n",
       " Row(TPR=1.0),\n",
       " Row(TPR=1.0),\n",
       " Row(TPR=1.0),\n",
       " Row(TPR=1.0),\n",
       " Row(TPR=1.0),\n",
       " Row(TPR=1.0),\n",
       " Row(TPR=1.0),\n",
       " Row(TPR=1.0)]"
      ]
     },
     "execution_count": 63,
     "metadata": {},
     "output_type": "execute_result"
    }
   ],
   "source": [
    "trainlog_model.summary.roc.select('FPR').collect()\n",
    "trainlog_model.summary.roc.select('TPR').collect()"
   ]
  },
  {
   "cell_type": "code",
   "execution_count": 64,
   "id": "1e268589-cedf-48b5-ab0f-ba6cc15721d9",
   "metadata": {},
   "outputs": [
    {
     "data": {
      "image/png": "[encoded data removed]",
      "text/plain": [
       "<Figure size 500x500 with 1 Axes>"
      ]
     },
     "metadata": {},
     "output_type": "display_data"
    }
   ],
   "source": [
    "\n",
    "plt.figure(figsize=(5,5))\n",
    "plt.plot([0, 1], [0, 1], 'r--')\n",
    "plt.plot(trainlog_model.summary.roc.select('FPR').collect(),\n",
    "         trainlog_model.summary.roc.select('TPR').collect())\n",
    "plt.xlabel('FPR')\n",
    "plt.ylabel('TPR')\n",
    "plt.show()"
   ]
  },
  {
   "cell_type": "code",
   "execution_count": null,
   "id": "169adb05-4600-4237-990c-4d356c9d4169",
   "metadata": {},
   "outputs": [],
   "source": []
  }
 ],
 "metadata": {
  "kernelspec": {
   "display_name": "Python 3 (ipykernel)",
   "language": "python",
   "name": "python3"
  },
  "language_info": {
   "codemirror_mode": {
    "name": "ipython",
    "version": 3
   },
   "file_extension": ".py",
   "mimetype": "text/x-python",
   "name": "python",
   "nbconvert_exporter": "python",
   "pygments_lexer": "ipython3",
   "version": "3.10.6"
  }
 },
 "nbformat": 4,
 "nbformat_minor": 5
}
