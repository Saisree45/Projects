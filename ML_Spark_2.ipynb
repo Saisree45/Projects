{
 "cells": [
  {
   "cell_type": "markdown",
   "id": "9d17e189-647c-4871-b783-d1125f58a81c",
   "metadata": {},
   "source": [
    "Question 3\n",
    "\n",
    "Design a PySpark program to implement Prim’s algorithm for Minimum Spanning Tree for the following graph. You may define your own file format for the graph below. (10 points)"
   ]
  },
  {
   "cell_type": "code",
   "execution_count": 7,
   "id": "b56cf7dc-2413-42f3-9c35-9f0638a561a4",
   "metadata": {},
   "outputs": [
    {
     "name": "stdout",
     "output_type": "stream",
     "text": [
      "Edge : Weight\n",
      "\n",
      "1-2:4\n",
      "1-3:8\n",
      "3-6:1\n",
      "6-7:2\n",
      "7-5:4\n",
      "5-4:2\n",
      "5-8:7\n",
      "8-9:9\n"
     ]
    }
   ],
   "source": [
    "# Prim's Algorithm in Python for finding Minimum Cost Spanning Tree\n",
    "\n",
    "Min_Spanning = 9999999\n",
    "\n",
    "my_vertices = 9\n",
    "\n",
    "my_matrix = [ [0, 4, 8, 0, 0, 0, 0, 0, 0],\n",
    "          [4, 0, 11, 0, 8, 0, 0, 0, 0],\n",
    "          [8, 11, 0, 7, 0, 1, 0, 0, 0],\n",
    "          [0, 0, 7, 0, 2, 6, 0, 0, 0],\n",
    "          [0, 8, 0, 2, 0, 0, 4, 7, 0],\n",
    "          [0, 0, 1, 6, 0, 0, 2, 0, 0],\n",
    "          [0, 0, 0, 0, 4, 2, 0, 14, 10],\n",
    "          [0, 0, 0, 0, 7, 0, 14, 0, 9],\n",
    "          [0, 0, 0, 0, 0, 0, 10, 9, 0]]\n",
    "\n",
    "selected_node = [0, 0, 0, 0, 0, 0, 0, 0, 0]\n",
    "\n",
    "no_edge = 0\n",
    "\n",
    "selected_node[0] = True\n",
    "\n",
    "# printing for edge and weight\n",
    "print(\"Edge : Weight\\n\")\n",
    "while (no_edge < my_vertices - 1):\n",
    "    \n",
    "    minimum = Min_Spanning\n",
    "    a = 0\n",
    "    b = 0\n",
    "    for x in range(my_vertices):\n",
    "        if selected_node[x]:\n",
    "            for y in range(my_vertices):\n",
    "                if ((not selected_node[y]) and my_matrix[x][y]):  \n",
    "                    # not in selected and there is an edge\n",
    "                    if minimum > my_matrix[x][y]:\n",
    "                        minimum = my_matrix[x][y]\n",
    "                        a = x\n",
    "                        b = y\n",
    "    print(str(a + 1) + \"-\" + str(b + 1) + \":\" + str(my_matrix[a][b]))\n",
    "    selected_node[b] = True\n",
    "    no_edge += 1"
   ]
  },
  {
   "cell_type": "code",
   "execution_count": null,
   "id": "1f5e4047-c7c7-48d2-bc0e-5daf2a20eb29",
   "metadata": {},
   "outputs": [],
   "source": []
  },
  {
   "cell_type": "code",
   "execution_count": null,
   "id": "5e7b94f7-a11b-4b39-b528-d1a2ed9d07d8",
   "metadata": {},
   "outputs": [],
   "source": []
  }
 ],
 "metadata": {
  "kernelspec": {
   "display_name": "Python 3 (ipykernel)",
   "language": "python",
   "name": "python3"
  },
  "language_info": {
   "codemirror_mode": {
    "name": "ipython",
    "version": 3
   },
   "file_extension": ".py",
   "mimetype": "text/x-python",
   "name": "python",
   "nbconvert_exporter": "python",
   "pygments_lexer": "ipython3",
   "version": "3.10.6"
  }
 },
 "nbformat": 4,
 "nbformat_minor": 5
}
